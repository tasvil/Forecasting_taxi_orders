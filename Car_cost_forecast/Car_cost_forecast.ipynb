{
 "cells": [
  {
   "cell_type": "markdown",
   "metadata": {},
   "source": [
    "<div style=\"border:solid Chocolate 2px; padding: 40px\">\n",
    "\n",
    "# Определение стоимости автомобилей\n",
    "\n",
    "</div>"
   ]
  },
  {
   "cell_type": "markdown",
   "metadata": {},
   "source": [
    "Сервис по продаже автомобилей с пробегом разрабатывает приложение для привлечения новых клиентов. В нём можно быстро узнать рыночную стоимость своего автомобиля. В нашем распоряжении исторические данные: технические характеристики, комплектации и цены автомобилей. \n",
    "\n",
    "Задача: построить модель для определения стоимости автомобиля. \n",
    "\n",
    "Заказчику важны:\n",
    "\n",
    "- качество предсказания;\n",
    "- скорость предсказания;\n",
    "- время обучения.\n",
    " \n",
    "Примечания:\n",
    "\n",
    "- Для оценки качества моделей применяем метрику RMSE.\n",
    "- Значение метрики RMSE должно быть меньше 2500."
   ]
  },
  {
   "cell_type": "markdown",
   "metadata": {},
   "source": [
    "## Подготовка данных"
   ]
  },
  {
   "cell_type": "code",
   "execution_count": 1,
   "metadata": {},
   "outputs": [],
   "source": [
    "from catboost import CatBoostRegressor\n",
    "from lightgbm import LGBMRegressor\n",
    "\n",
    "import matplotlib.pyplot as plt\n",
    "import numpy as np\n",
    "import pandas as pd\n",
    "\n",
    "from sklearn.ensemble import RandomForestRegressor\n",
    "from sklearn.linear_model import LinearRegression\n",
    "from sklearn.metrics import mean_squared_error\n",
    "from sklearn.model_selection import RandomizedSearchCV\n",
    "from sklearn.pipeline import Pipeline\n",
    "from sklearn.preprocessing import StandardScaler, OrdinalEncoder, OneHotEncoder\n",
    "from sklearn.tree import DecisionTreeRegressor\n",
    "from sklearn.compose import ColumnTransformer\n",
    "\n",
    "import os"
   ]
  },
  {
   "cell_type": "code",
   "execution_count": 2,
   "metadata": {},
   "outputs": [
    {
     "data": {
      "text/html": [
       "<div>\n",
       "<style scoped>\n",
       "    .dataframe tbody tr th:only-of-type {\n",
       "        vertical-align: middle;\n",
       "    }\n",
       "\n",
       "    .dataframe tbody tr th {\n",
       "        vertical-align: top;\n",
       "    }\n",
       "\n",
       "    .dataframe thead th {\n",
       "        text-align: right;\n",
       "    }\n",
       "</style>\n",
       "<table border=\"1\" class=\"dataframe\">\n",
       "  <thead>\n",
       "    <tr style=\"text-align: right;\">\n",
       "      <th></th>\n",
       "      <th>DateCrawled</th>\n",
       "      <th>Price</th>\n",
       "      <th>VehicleType</th>\n",
       "      <th>RegistrationYear</th>\n",
       "      <th>Gearbox</th>\n",
       "      <th>Power</th>\n",
       "      <th>Model</th>\n",
       "      <th>Kilometer</th>\n",
       "      <th>RegistrationMonth</th>\n",
       "      <th>FuelType</th>\n",
       "      <th>Brand</th>\n",
       "      <th>Repaired</th>\n",
       "      <th>DateCreated</th>\n",
       "      <th>NumberOfPictures</th>\n",
       "      <th>PostalCode</th>\n",
       "      <th>LastSeen</th>\n",
       "    </tr>\n",
       "  </thead>\n",
       "  <tbody>\n",
       "    <tr>\n",
       "      <th>0</th>\n",
       "      <td>2016-03-24 11:52:17</td>\n",
       "      <td>480</td>\n",
       "      <td>NaN</td>\n",
       "      <td>1993</td>\n",
       "      <td>manual</td>\n",
       "      <td>0</td>\n",
       "      <td>golf</td>\n",
       "      <td>150000</td>\n",
       "      <td>0</td>\n",
       "      <td>petrol</td>\n",
       "      <td>volkswagen</td>\n",
       "      <td>NaN</td>\n",
       "      <td>2016-03-24 00:00:00</td>\n",
       "      <td>0</td>\n",
       "      <td>70435</td>\n",
       "      <td>2016-04-07 03:16:57</td>\n",
       "    </tr>\n",
       "    <tr>\n",
       "      <th>1</th>\n",
       "      <td>2016-03-24 10:58:45</td>\n",
       "      <td>18300</td>\n",
       "      <td>coupe</td>\n",
       "      <td>2011</td>\n",
       "      <td>manual</td>\n",
       "      <td>190</td>\n",
       "      <td>NaN</td>\n",
       "      <td>125000</td>\n",
       "      <td>5</td>\n",
       "      <td>gasoline</td>\n",
       "      <td>audi</td>\n",
       "      <td>yes</td>\n",
       "      <td>2016-03-24 00:00:00</td>\n",
       "      <td>0</td>\n",
       "      <td>66954</td>\n",
       "      <td>2016-04-07 01:46:50</td>\n",
       "    </tr>\n",
       "    <tr>\n",
       "      <th>2</th>\n",
       "      <td>2016-03-14 12:52:21</td>\n",
       "      <td>9800</td>\n",
       "      <td>suv</td>\n",
       "      <td>2004</td>\n",
       "      <td>auto</td>\n",
       "      <td>163</td>\n",
       "      <td>grand</td>\n",
       "      <td>125000</td>\n",
       "      <td>8</td>\n",
       "      <td>gasoline</td>\n",
       "      <td>jeep</td>\n",
       "      <td>NaN</td>\n",
       "      <td>2016-03-14 00:00:00</td>\n",
       "      <td>0</td>\n",
       "      <td>90480</td>\n",
       "      <td>2016-04-05 12:47:46</td>\n",
       "    </tr>\n",
       "    <tr>\n",
       "      <th>3</th>\n",
       "      <td>2016-03-17 16:54:04</td>\n",
       "      <td>1500</td>\n",
       "      <td>small</td>\n",
       "      <td>2001</td>\n",
       "      <td>manual</td>\n",
       "      <td>75</td>\n",
       "      <td>golf</td>\n",
       "      <td>150000</td>\n",
       "      <td>6</td>\n",
       "      <td>petrol</td>\n",
       "      <td>volkswagen</td>\n",
       "      <td>no</td>\n",
       "      <td>2016-03-17 00:00:00</td>\n",
       "      <td>0</td>\n",
       "      <td>91074</td>\n",
       "      <td>2016-03-17 17:40:17</td>\n",
       "    </tr>\n",
       "    <tr>\n",
       "      <th>4</th>\n",
       "      <td>2016-03-31 17:25:20</td>\n",
       "      <td>3600</td>\n",
       "      <td>small</td>\n",
       "      <td>2008</td>\n",
       "      <td>manual</td>\n",
       "      <td>69</td>\n",
       "      <td>fabia</td>\n",
       "      <td>90000</td>\n",
       "      <td>7</td>\n",
       "      <td>gasoline</td>\n",
       "      <td>skoda</td>\n",
       "      <td>no</td>\n",
       "      <td>2016-03-31 00:00:00</td>\n",
       "      <td>0</td>\n",
       "      <td>60437</td>\n",
       "      <td>2016-04-06 10:17:21</td>\n",
       "    </tr>\n",
       "  </tbody>\n",
       "</table>\n",
       "</div>"
      ],
      "text/plain": [
       "           DateCrawled  Price VehicleType  RegistrationYear Gearbox  Power  \\\n",
       "0  2016-03-24 11:52:17    480         NaN              1993  manual      0   \n",
       "1  2016-03-24 10:58:45  18300       coupe              2011  manual    190   \n",
       "2  2016-03-14 12:52:21   9800         suv              2004    auto    163   \n",
       "3  2016-03-17 16:54:04   1500       small              2001  manual     75   \n",
       "4  2016-03-31 17:25:20   3600       small              2008  manual     69   \n",
       "\n",
       "   Model  Kilometer  RegistrationMonth  FuelType       Brand Repaired  \\\n",
       "0   golf     150000                  0    petrol  volkswagen      NaN   \n",
       "1    NaN     125000                  5  gasoline        audi      yes   \n",
       "2  grand     125000                  8  gasoline        jeep      NaN   \n",
       "3   golf     150000                  6    petrol  volkswagen       no   \n",
       "4  fabia      90000                  7  gasoline       skoda       no   \n",
       "\n",
       "           DateCreated  NumberOfPictures  PostalCode             LastSeen  \n",
       "0  2016-03-24 00:00:00                 0       70435  2016-04-07 03:16:57  \n",
       "1  2016-03-24 00:00:00                 0       66954  2016-04-07 01:46:50  \n",
       "2  2016-03-14 00:00:00                 0       90480  2016-04-05 12:47:46  \n",
       "3  2016-03-17 00:00:00                 0       91074  2016-03-17 17:40:17  \n",
       "4  2016-03-31 00:00:00                 0       60437  2016-04-06 10:17:21  "
      ]
     },
     "execution_count": 2,
     "metadata": {},
     "output_type": "execute_result"
    }
   ],
   "source": [
    "pth = '/datasets/autos.csv'\n",
    "pth2 = 'autos.csv'\n",
    "\n",
    "if os.path.exists(pth):\n",
    "    data = pd.read_csv(pth)\n",
    "elif os.path.exists(pth2):\n",
    "    data = pd.read_csv(pth2)\n",
    "else:\n",
    "    print('Something is wrong')\n",
    "\n",
    "data.head()"
   ]
  },
  {
   "cell_type": "code",
   "execution_count": 3,
   "metadata": {
    "tags": []
   },
   "outputs": [
    {
     "name": "stdout",
     "output_type": "stream",
     "text": [
      "<class 'pandas.core.frame.DataFrame'>\n",
      "RangeIndex: 354369 entries, 0 to 354368\n",
      "Data columns (total 16 columns):\n",
      " #   Column             Non-Null Count   Dtype \n",
      "---  ------             --------------   ----- \n",
      " 0   DateCrawled        354369 non-null  object\n",
      " 1   Price              354369 non-null  int64 \n",
      " 2   VehicleType        316879 non-null  object\n",
      " 3   RegistrationYear   354369 non-null  int64 \n",
      " 4   Gearbox            334536 non-null  object\n",
      " 5   Power              354369 non-null  int64 \n",
      " 6   Model              334664 non-null  object\n",
      " 7   Kilometer          354369 non-null  int64 \n",
      " 8   RegistrationMonth  354369 non-null  int64 \n",
      " 9   FuelType           321474 non-null  object\n",
      " 10  Brand              354369 non-null  object\n",
      " 11  Repaired           283215 non-null  object\n",
      " 12  DateCreated        354369 non-null  object\n",
      " 13  NumberOfPictures   354369 non-null  int64 \n",
      " 14  PostalCode         354369 non-null  int64 \n",
      " 15  LastSeen           354369 non-null  object\n",
      "dtypes: int64(7), object(9)\n",
      "memory usage: 43.3+ MB\n"
     ]
    }
   ],
   "source": [
    "data.info()"
   ]
  },
  {
   "cell_type": "markdown",
   "metadata": {},
   "source": [
    "Признаки\n",
    "- DateCrawled — дата скачивания анкеты из базы\n",
    "- VehicleType — тип автомобильного кузова\n",
    "- RegistrationYear — год регистрации автомобиля\n",
    "- Gearbox — тип коробки передач\n",
    "- Power — мощность (л. с.)\n",
    "- Model — модель автомобиля\n",
    "- Kilometer — пробег (км)\n",
    "- RegistrationMonth — месяц регистрации автомобиля\n",
    "- FuelType — тип топлива\n",
    "- Brand — марка автомобиля\n",
    "- Repaired — была машина в ремонте или нет\n",
    "- DateCreated — дата создания анкеты\n",
    "-  NumberOfPictures — количество фотографий автомобиля\n",
    "- PostalCode — почтовый индекс владельца анкеты (пользователя)\n",
    "- LastSeen — дата последней активности пользователя\n",
    "\n",
    "Целевой признак\n",
    "- Price — цена (евро)"
   ]
  },
  {
   "cell_type": "markdown",
   "metadata": {},
   "source": [
    "### Предобработка данных"
   ]
  },
  {
   "cell_type": "markdown",
   "metadata": {},
   "source": [
    "Сначала проверим, есть ли в датасете полные дубликаты."
   ]
  },
  {
   "cell_type": "code",
   "execution_count": 4,
   "metadata": {
    "scrolled": true
   },
   "outputs": [
    {
     "name": "stdout",
     "output_type": "stream",
     "text": [
      "Наличие явных дубликатов в датасете: 4\n"
     ]
    }
   ],
   "source": [
    "print(\"Наличие явных дубликатов в датасете:\", data.duplicated().sum())"
   ]
  },
  {
   "cell_type": "code",
   "execution_count": 5,
   "metadata": {},
   "outputs": [
    {
     "name": "stdout",
     "output_type": "stream",
     "text": [
      "Наличие явных дубликатов в датасете: 0\n"
     ]
    }
   ],
   "source": [
    "data = data.drop_duplicates()\n",
    "print(\"Наличие явных дубликатов в датасете:\", data.duplicated().sum())"
   ]
  },
  {
   "cell_type": "markdown",
   "metadata": {},
   "source": [
    "В датасете есть неинформативные признаки, которые не пригодятся нам для анализа, можем сразу удалить их. Это DateCrawled, RegistrationMonth, DateCreated, NumberOfPictures, PostalCode и LastSeen. "
   ]
  },
  {
   "cell_type": "code",
   "execution_count": 6,
   "metadata": {},
   "outputs": [
    {
     "data": {
      "text/html": [
       "<div>\n",
       "<style scoped>\n",
       "    .dataframe tbody tr th:only-of-type {\n",
       "        vertical-align: middle;\n",
       "    }\n",
       "\n",
       "    .dataframe tbody tr th {\n",
       "        vertical-align: top;\n",
       "    }\n",
       "\n",
       "    .dataframe thead th {\n",
       "        text-align: right;\n",
       "    }\n",
       "</style>\n",
       "<table border=\"1\" class=\"dataframe\">\n",
       "  <thead>\n",
       "    <tr style=\"text-align: right;\">\n",
       "      <th></th>\n",
       "      <th>Price</th>\n",
       "      <th>VehicleType</th>\n",
       "      <th>RegistrationYear</th>\n",
       "      <th>Gearbox</th>\n",
       "      <th>Power</th>\n",
       "      <th>Model</th>\n",
       "      <th>Kilometer</th>\n",
       "      <th>FuelType</th>\n",
       "      <th>Brand</th>\n",
       "      <th>Repaired</th>\n",
       "    </tr>\n",
       "  </thead>\n",
       "  <tbody>\n",
       "    <tr>\n",
       "      <th>0</th>\n",
       "      <td>480</td>\n",
       "      <td>NaN</td>\n",
       "      <td>1993</td>\n",
       "      <td>manual</td>\n",
       "      <td>0</td>\n",
       "      <td>golf</td>\n",
       "      <td>150000</td>\n",
       "      <td>petrol</td>\n",
       "      <td>volkswagen</td>\n",
       "      <td>NaN</td>\n",
       "    </tr>\n",
       "    <tr>\n",
       "      <th>1</th>\n",
       "      <td>18300</td>\n",
       "      <td>coupe</td>\n",
       "      <td>2011</td>\n",
       "      <td>manual</td>\n",
       "      <td>190</td>\n",
       "      <td>NaN</td>\n",
       "      <td>125000</td>\n",
       "      <td>gasoline</td>\n",
       "      <td>audi</td>\n",
       "      <td>yes</td>\n",
       "    </tr>\n",
       "    <tr>\n",
       "      <th>2</th>\n",
       "      <td>9800</td>\n",
       "      <td>suv</td>\n",
       "      <td>2004</td>\n",
       "      <td>auto</td>\n",
       "      <td>163</td>\n",
       "      <td>grand</td>\n",
       "      <td>125000</td>\n",
       "      <td>gasoline</td>\n",
       "      <td>jeep</td>\n",
       "      <td>NaN</td>\n",
       "    </tr>\n",
       "    <tr>\n",
       "      <th>3</th>\n",
       "      <td>1500</td>\n",
       "      <td>small</td>\n",
       "      <td>2001</td>\n",
       "      <td>manual</td>\n",
       "      <td>75</td>\n",
       "      <td>golf</td>\n",
       "      <td>150000</td>\n",
       "      <td>petrol</td>\n",
       "      <td>volkswagen</td>\n",
       "      <td>no</td>\n",
       "    </tr>\n",
       "    <tr>\n",
       "      <th>4</th>\n",
       "      <td>3600</td>\n",
       "      <td>small</td>\n",
       "      <td>2008</td>\n",
       "      <td>manual</td>\n",
       "      <td>69</td>\n",
       "      <td>fabia</td>\n",
       "      <td>90000</td>\n",
       "      <td>gasoline</td>\n",
       "      <td>skoda</td>\n",
       "      <td>no</td>\n",
       "    </tr>\n",
       "  </tbody>\n",
       "</table>\n",
       "</div>"
      ],
      "text/plain": [
       "   Price VehicleType  RegistrationYear Gearbox  Power  Model  Kilometer  \\\n",
       "0    480         NaN              1993  manual      0   golf     150000   \n",
       "1  18300       coupe              2011  manual    190    NaN     125000   \n",
       "2   9800         suv              2004    auto    163  grand     125000   \n",
       "3   1500       small              2001  manual     75   golf     150000   \n",
       "4   3600       small              2008  manual     69  fabia      90000   \n",
       "\n",
       "   FuelType       Brand Repaired  \n",
       "0    petrol  volkswagen      NaN  \n",
       "1  gasoline        audi      yes  \n",
       "2  gasoline        jeep      NaN  \n",
       "3    petrol  volkswagen       no  \n",
       "4  gasoline       skoda       no  "
      ]
     },
     "execution_count": 6,
     "metadata": {},
     "output_type": "execute_result"
    }
   ],
   "source": [
    "data = data.drop(['DateCrawled', 'RegistrationMonth', 'DateCreated', 'NumberOfPictures', 'PostalCode', 'LastSeen'], axis=1)\n",
    "data.head()"
   ]
  },
  {
   "cell_type": "markdown",
   "metadata": {},
   "source": [
    "Проверим пропуски в данных."
   ]
  },
  {
   "cell_type": "code",
   "execution_count": 7,
   "metadata": {},
   "outputs": [
    {
     "data": {
      "text/html": [
       "<style  type=\"text/css\" >\n",
       "#T_14996_row0_col0,#T_14996_row2_col0,#T_14996_row4_col0,#T_14996_row6_col0,#T_14996_row8_col0{\n",
       "            background-color:  #3b4cc0;\n",
       "            color:  #f1f1f1;\n",
       "        }#T_14996_row1_col0{\n",
       "            background-color:  #e9d5cb;\n",
       "            color:  #000000;\n",
       "        }#T_14996_row3_col0,#T_14996_row5_col0{\n",
       "            background-color:  #9ebeff;\n",
       "            color:  #000000;\n",
       "        }#T_14996_row7_col0{\n",
       "            background-color:  #cfdaea;\n",
       "            color:  #000000;\n",
       "        }#T_14996_row9_col0{\n",
       "            background-color:  #b40426;\n",
       "            color:  #f1f1f1;\n",
       "        }</style><table id=\"T_14996_\" ><thead>    <tr>        <th class=\"blank level0\" ></th>        <th class=\"col_heading level0 col0\" >0</th>    </tr></thead><tbody>\n",
       "                <tr>\n",
       "                        <th id=\"T_14996_level0_row0\" class=\"row_heading level0 row0\" >Price</th>\n",
       "                        <td id=\"T_14996_row0_col0\" class=\"data row0 col0\" >0.000000</td>\n",
       "            </tr>\n",
       "            <tr>\n",
       "                        <th id=\"T_14996_level0_row1\" class=\"row_heading level0 row1\" >VehicleType</th>\n",
       "                        <td id=\"T_14996_row1_col0\" class=\"data row1 col0\" >11.000000</td>\n",
       "            </tr>\n",
       "            <tr>\n",
       "                        <th id=\"T_14996_level0_row2\" class=\"row_heading level0 row2\" >RegistrationYear</th>\n",
       "                        <td id=\"T_14996_row2_col0\" class=\"data row2 col0\" >0.000000</td>\n",
       "            </tr>\n",
       "            <tr>\n",
       "                        <th id=\"T_14996_level0_row3\" class=\"row_heading level0 row3\" >Gearbox</th>\n",
       "                        <td id=\"T_14996_row3_col0\" class=\"data row3 col0\" >6.000000</td>\n",
       "            </tr>\n",
       "            <tr>\n",
       "                        <th id=\"T_14996_level0_row4\" class=\"row_heading level0 row4\" >Power</th>\n",
       "                        <td id=\"T_14996_row4_col0\" class=\"data row4 col0\" >0.000000</td>\n",
       "            </tr>\n",
       "            <tr>\n",
       "                        <th id=\"T_14996_level0_row5\" class=\"row_heading level0 row5\" >Model</th>\n",
       "                        <td id=\"T_14996_row5_col0\" class=\"data row5 col0\" >6.000000</td>\n",
       "            </tr>\n",
       "            <tr>\n",
       "                        <th id=\"T_14996_level0_row6\" class=\"row_heading level0 row6\" >Kilometer</th>\n",
       "                        <td id=\"T_14996_row6_col0\" class=\"data row6 col0\" >0.000000</td>\n",
       "            </tr>\n",
       "            <tr>\n",
       "                        <th id=\"T_14996_level0_row7\" class=\"row_heading level0 row7\" >FuelType</th>\n",
       "                        <td id=\"T_14996_row7_col0\" class=\"data row7 col0\" >9.000000</td>\n",
       "            </tr>\n",
       "            <tr>\n",
       "                        <th id=\"T_14996_level0_row8\" class=\"row_heading level0 row8\" >Brand</th>\n",
       "                        <td id=\"T_14996_row8_col0\" class=\"data row8 col0\" >0.000000</td>\n",
       "            </tr>\n",
       "            <tr>\n",
       "                        <th id=\"T_14996_level0_row9\" class=\"row_heading level0 row9\" >Repaired</th>\n",
       "                        <td id=\"T_14996_row9_col0\" class=\"data row9 col0\" >20.000000</td>\n",
       "            </tr>\n",
       "    </tbody></table>"
      ],
      "text/plain": [
       "<pandas.io.formats.style.Styler at 0x7fac5b3fff10>"
      ]
     },
     "execution_count": 7,
     "metadata": {},
     "output_type": "execute_result"
    }
   ],
   "source": [
    "pd.DataFrame(round(data.isna().mean()*100,)).style.background_gradient('coolwarm')"
   ]
  },
  {
   "cell_type": "markdown",
   "metadata": {},
   "source": [
    "Все пропуски - в категориальных признаках, причем их довольно значительное количество, т.е. их удаление может значительно сказаться на работе модели. Можем заменить все пропуски на \"unknown\"."
   ]
  },
  {
   "cell_type": "code",
   "execution_count": 8,
   "metadata": {},
   "outputs": [
    {
     "data": {
      "text/plain": [
       "Price               0\n",
       "VehicleType         0\n",
       "RegistrationYear    0\n",
       "Gearbox             0\n",
       "Power               0\n",
       "Model               0\n",
       "Kilometer           0\n",
       "FuelType            0\n",
       "Brand               0\n",
       "Repaired            0\n",
       "dtype: int64"
      ]
     },
     "execution_count": 8,
     "metadata": {},
     "output_type": "execute_result"
    }
   ],
   "source": [
    "data = data.fillna(\"unknown\")\n",
    "data.isna().sum()"
   ]
  },
  {
   "cell_type": "markdown",
   "metadata": {},
   "source": [
    "Изучим аномальные значения."
   ]
  },
  {
   "cell_type": "code",
   "execution_count": 9,
   "metadata": {
    "scrolled": true
   },
   "outputs": [
    {
     "data": {
      "text/html": [
       "<div>\n",
       "<style scoped>\n",
       "    .dataframe tbody tr th:only-of-type {\n",
       "        vertical-align: middle;\n",
       "    }\n",
       "\n",
       "    .dataframe tbody tr th {\n",
       "        vertical-align: top;\n",
       "    }\n",
       "\n",
       "    .dataframe thead th {\n",
       "        text-align: right;\n",
       "    }\n",
       "</style>\n",
       "<table border=\"1\" class=\"dataframe\">\n",
       "  <thead>\n",
       "    <tr style=\"text-align: right;\">\n",
       "      <th></th>\n",
       "      <th>Price</th>\n",
       "      <th>RegistrationYear</th>\n",
       "      <th>Power</th>\n",
       "      <th>Kilometer</th>\n",
       "    </tr>\n",
       "  </thead>\n",
       "  <tbody>\n",
       "    <tr>\n",
       "      <th>count</th>\n",
       "      <td>354365.000000</td>\n",
       "      <td>354365.000000</td>\n",
       "      <td>354365.000000</td>\n",
       "      <td>354365.000000</td>\n",
       "    </tr>\n",
       "    <tr>\n",
       "      <th>mean</th>\n",
       "      <td>4416.679830</td>\n",
       "      <td>2004.234481</td>\n",
       "      <td>110.093816</td>\n",
       "      <td>128211.363989</td>\n",
       "    </tr>\n",
       "    <tr>\n",
       "      <th>std</th>\n",
       "      <td>4514.176349</td>\n",
       "      <td>90.228466</td>\n",
       "      <td>189.851330</td>\n",
       "      <td>37905.083858</td>\n",
       "    </tr>\n",
       "    <tr>\n",
       "      <th>min</th>\n",
       "      <td>0.000000</td>\n",
       "      <td>1000.000000</td>\n",
       "      <td>0.000000</td>\n",
       "      <td>5000.000000</td>\n",
       "    </tr>\n",
       "    <tr>\n",
       "      <th>25%</th>\n",
       "      <td>1050.000000</td>\n",
       "      <td>1999.000000</td>\n",
       "      <td>69.000000</td>\n",
       "      <td>125000.000000</td>\n",
       "    </tr>\n",
       "    <tr>\n",
       "      <th>50%</th>\n",
       "      <td>2700.000000</td>\n",
       "      <td>2003.000000</td>\n",
       "      <td>105.000000</td>\n",
       "      <td>150000.000000</td>\n",
       "    </tr>\n",
       "    <tr>\n",
       "      <th>75%</th>\n",
       "      <td>6400.000000</td>\n",
       "      <td>2008.000000</td>\n",
       "      <td>143.000000</td>\n",
       "      <td>150000.000000</td>\n",
       "    </tr>\n",
       "    <tr>\n",
       "      <th>max</th>\n",
       "      <td>20000.000000</td>\n",
       "      <td>9999.000000</td>\n",
       "      <td>20000.000000</td>\n",
       "      <td>150000.000000</td>\n",
       "    </tr>\n",
       "  </tbody>\n",
       "</table>\n",
       "</div>"
      ],
      "text/plain": [
       "               Price  RegistrationYear          Power      Kilometer\n",
       "count  354365.000000     354365.000000  354365.000000  354365.000000\n",
       "mean     4416.679830       2004.234481     110.093816  128211.363989\n",
       "std      4514.176349         90.228466     189.851330   37905.083858\n",
       "min         0.000000       1000.000000       0.000000    5000.000000\n",
       "25%      1050.000000       1999.000000      69.000000  125000.000000\n",
       "50%      2700.000000       2003.000000     105.000000  150000.000000\n",
       "75%      6400.000000       2008.000000     143.000000  150000.000000\n",
       "max     20000.000000       9999.000000   20000.000000  150000.000000"
      ]
     },
     "execution_count": 9,
     "metadata": {},
     "output_type": "execute_result"
    }
   ],
   "source": [
    "data.describe()"
   ]
  },
  {
   "cell_type": "markdown",
   "metadata": {},
   "source": [
    "Мы видим много аномальных значений, например, цена или мощность = 0, год 1000 и 9999. "
   ]
  },
  {
   "cell_type": "markdown",
   "metadata": {},
   "source": [
    "Начнем с Power. Быстрым поиском в открытых источниках выясняем, что максимально возможная мощность автомобилей - до 5 000 (и это для мощных грузовиков, которые вряд ли будут в большом количестве присутствовать в нашем сервисе по продаже авто). "
   ]
  },
  {
   "cell_type": "code",
   "execution_count": 10,
   "metadata": {},
   "outputs": [
    {
     "data": {
      "image/png": "[encoded data removed]",
      "text/plain": [
       "<Figure size 432x288 with 1 Axes>"
      ]
     },
     "metadata": {
      "needs_background": "light"
     },
     "output_type": "display_data"
    }
   ],
   "source": [
    "data.boxplot(column='Power');"
   ]
  },
  {
   "cell_type": "markdown",
   "metadata": {},
   "source": [
    "Очень большой хвост выбросов сверху. Во все данные, что выше - вероятно, по ошибке добавили два лишних нуля. Посмотрим на эти данные."
   ]
  },
  {
   "cell_type": "code",
   "execution_count": 11,
   "metadata": {
    "scrolled": true
   },
   "outputs": [
    {
     "data": {
      "text/html": [
       "<div>\n",
       "<style scoped>\n",
       "    .dataframe tbody tr th:only-of-type {\n",
       "        vertical-align: middle;\n",
       "    }\n",
       "\n",
       "    .dataframe tbody tr th {\n",
       "        vertical-align: top;\n",
       "    }\n",
       "\n",
       "    .dataframe thead th {\n",
       "        text-align: right;\n",
       "    }\n",
       "</style>\n",
       "<table border=\"1\" class=\"dataframe\">\n",
       "  <thead>\n",
       "    <tr style=\"text-align: right;\">\n",
       "      <th></th>\n",
       "      <th>Price</th>\n",
       "      <th>VehicleType</th>\n",
       "      <th>RegistrationYear</th>\n",
       "      <th>Gearbox</th>\n",
       "      <th>Power</th>\n",
       "      <th>Model</th>\n",
       "      <th>Kilometer</th>\n",
       "      <th>FuelType</th>\n",
       "      <th>Brand</th>\n",
       "      <th>Repaired</th>\n",
       "    </tr>\n",
       "  </thead>\n",
       "  <tbody>\n",
       "    <tr>\n",
       "      <th>7661</th>\n",
       "      <td>1499</td>\n",
       "      <td>small</td>\n",
       "      <td>1999</td>\n",
       "      <td>manual</td>\n",
       "      <td>7515</td>\n",
       "      <td>lupo</td>\n",
       "      <td>150000</td>\n",
       "      <td>petrol</td>\n",
       "      <td>volkswagen</td>\n",
       "      <td>unknown</td>\n",
       "    </tr>\n",
       "    <tr>\n",
       "      <th>11039</th>\n",
       "      <td>0</td>\n",
       "      <td>sedan</td>\n",
       "      <td>1998</td>\n",
       "      <td>manual</td>\n",
       "      <td>10317</td>\n",
       "      <td>other</td>\n",
       "      <td>150000</td>\n",
       "      <td>petrol</td>\n",
       "      <td>fiat</td>\n",
       "      <td>no</td>\n",
       "    </tr>\n",
       "    <tr>\n",
       "      <th>25232</th>\n",
       "      <td>10900</td>\n",
       "      <td>bus</td>\n",
       "      <td>2009</td>\n",
       "      <td>manual</td>\n",
       "      <td>10520</td>\n",
       "      <td>caddy</td>\n",
       "      <td>150000</td>\n",
       "      <td>gasoline</td>\n",
       "      <td>volkswagen</td>\n",
       "      <td>no</td>\n",
       "    </tr>\n",
       "    <tr>\n",
       "      <th>33952</th>\n",
       "      <td>3740</td>\n",
       "      <td>small</td>\n",
       "      <td>2006</td>\n",
       "      <td>manual</td>\n",
       "      <td>6920</td>\n",
       "      <td>aygo</td>\n",
       "      <td>90000</td>\n",
       "      <td>unknown</td>\n",
       "      <td>toyota</td>\n",
       "      <td>no</td>\n",
       "    </tr>\n",
       "    <tr>\n",
       "      <th>44520</th>\n",
       "      <td>2500</td>\n",
       "      <td>convertible</td>\n",
       "      <td>1998</td>\n",
       "      <td>manual</td>\n",
       "      <td>7512</td>\n",
       "      <td>golf</td>\n",
       "      <td>150000</td>\n",
       "      <td>unknown</td>\n",
       "      <td>volkswagen</td>\n",
       "      <td>unknown</td>\n",
       "    </tr>\n",
       "    <tr>\n",
       "      <th>45053</th>\n",
       "      <td>15800</td>\n",
       "      <td>convertible</td>\n",
       "      <td>2014</td>\n",
       "      <td>auto</td>\n",
       "      <td>10218</td>\n",
       "      <td>fortwo</td>\n",
       "      <td>30000</td>\n",
       "      <td>petrol</td>\n",
       "      <td>smart</td>\n",
       "      <td>unknown</td>\n",
       "    </tr>\n",
       "    <tr>\n",
       "      <th>45216</th>\n",
       "      <td>1690</td>\n",
       "      <td>sedan</td>\n",
       "      <td>1999</td>\n",
       "      <td>manual</td>\n",
       "      <td>7544</td>\n",
       "      <td>golf</td>\n",
       "      <td>125000</td>\n",
       "      <td>petrol</td>\n",
       "      <td>volkswagen</td>\n",
       "      <td>unknown</td>\n",
       "    </tr>\n",
       "    <tr>\n",
       "      <th>53158</th>\n",
       "      <td>1200</td>\n",
       "      <td>small</td>\n",
       "      <td>2001</td>\n",
       "      <td>manual</td>\n",
       "      <td>5411</td>\n",
       "      <td>seicento</td>\n",
       "      <td>150000</td>\n",
       "      <td>unknown</td>\n",
       "      <td>fiat</td>\n",
       "      <td>no</td>\n",
       "    </tr>\n",
       "    <tr>\n",
       "      <th>56971</th>\n",
       "      <td>1995</td>\n",
       "      <td>wagon</td>\n",
       "      <td>2002</td>\n",
       "      <td>manual</td>\n",
       "      <td>11530</td>\n",
       "      <td>focus</td>\n",
       "      <td>150000</td>\n",
       "      <td>petrol</td>\n",
       "      <td>ford</td>\n",
       "      <td>no</td>\n",
       "    </tr>\n",
       "    <tr>\n",
       "      <th>57622</th>\n",
       "      <td>1</td>\n",
       "      <td>unknown</td>\n",
       "      <td>5000</td>\n",
       "      <td>unknown</td>\n",
       "      <td>5000</td>\n",
       "      <td>clk</td>\n",
       "      <td>5000</td>\n",
       "      <td>petrol</td>\n",
       "      <td>mercedes_benz</td>\n",
       "      <td>unknown</td>\n",
       "    </tr>\n",
       "    <tr>\n",
       "      <th>62975</th>\n",
       "      <td>2200</td>\n",
       "      <td>small</td>\n",
       "      <td>1999</td>\n",
       "      <td>manual</td>\n",
       "      <td>12012</td>\n",
       "      <td>polo</td>\n",
       "      <td>150000</td>\n",
       "      <td>petrol</td>\n",
       "      <td>volkswagen</td>\n",
       "      <td>unknown</td>\n",
       "    </tr>\n",
       "    <tr>\n",
       "      <th>63986</th>\n",
       "      <td>3250</td>\n",
       "      <td>sedan</td>\n",
       "      <td>2001</td>\n",
       "      <td>auto</td>\n",
       "      <td>17932</td>\n",
       "      <td>omega</td>\n",
       "      <td>150000</td>\n",
       "      <td>petrol</td>\n",
       "      <td>opel</td>\n",
       "      <td>unknown</td>\n",
       "    </tr>\n",
       "    <tr>\n",
       "      <th>77779</th>\n",
       "      <td>850</td>\n",
       "      <td>sedan</td>\n",
       "      <td>2000</td>\n",
       "      <td>manual</td>\n",
       "      <td>12510</td>\n",
       "      <td>astra</td>\n",
       "      <td>30000</td>\n",
       "      <td>unknown</td>\n",
       "      <td>opel</td>\n",
       "      <td>no</td>\n",
       "    </tr>\n",
       "    <tr>\n",
       "      <th>84803</th>\n",
       "      <td>1999</td>\n",
       "      <td>sedan</td>\n",
       "      <td>1991</td>\n",
       "      <td>auto</td>\n",
       "      <td>10912</td>\n",
       "      <td>unknown</td>\n",
       "      <td>150000</td>\n",
       "      <td>gasoline</td>\n",
       "      <td>mercedes_benz</td>\n",
       "      <td>no</td>\n",
       "    </tr>\n",
       "    <tr>\n",
       "      <th>85229</th>\n",
       "      <td>0</td>\n",
       "      <td>unknown</td>\n",
       "      <td>2016</td>\n",
       "      <td>manual</td>\n",
       "      <td>15016</td>\n",
       "      <td>ptcruiser</td>\n",
       "      <td>150000</td>\n",
       "      <td>gasoline</td>\n",
       "      <td>chrysler</td>\n",
       "      <td>unknown</td>\n",
       "    </tr>\n",
       "    <tr>\n",
       "      <th>87830</th>\n",
       "      <td>2550</td>\n",
       "      <td>small</td>\n",
       "      <td>2004</td>\n",
       "      <td>auto</td>\n",
       "      <td>6226</td>\n",
       "      <td>fortwo</td>\n",
       "      <td>125000</td>\n",
       "      <td>petrol</td>\n",
       "      <td>smart</td>\n",
       "      <td>no</td>\n",
       "    </tr>\n",
       "    <tr>\n",
       "      <th>92226</th>\n",
       "      <td>950</td>\n",
       "      <td>small</td>\n",
       "      <td>2001</td>\n",
       "      <td>manual</td>\n",
       "      <td>8404</td>\n",
       "      <td>other</td>\n",
       "      <td>125000</td>\n",
       "      <td>petrol</td>\n",
       "      <td>suzuki</td>\n",
       "      <td>unknown</td>\n",
       "    </tr>\n",
       "    <tr>\n",
       "      <th>96366</th>\n",
       "      <td>1380</td>\n",
       "      <td>convertible</td>\n",
       "      <td>2001</td>\n",
       "      <td>auto</td>\n",
       "      <td>10710</td>\n",
       "      <td>megane</td>\n",
       "      <td>150000</td>\n",
       "      <td>unknown</td>\n",
       "      <td>renault</td>\n",
       "      <td>no</td>\n",
       "    </tr>\n",
       "    <tr>\n",
       "      <th>96580</th>\n",
       "      <td>4700</td>\n",
       "      <td>bus</td>\n",
       "      <td>1997</td>\n",
       "      <td>manual</td>\n",
       "      <td>10522</td>\n",
       "      <td>transporter</td>\n",
       "      <td>150000</td>\n",
       "      <td>gasoline</td>\n",
       "      <td>volkswagen</td>\n",
       "      <td>unknown</td>\n",
       "    </tr>\n",
       "    <tr>\n",
       "      <th>96608</th>\n",
       "      <td>1700</td>\n",
       "      <td>unknown</td>\n",
       "      <td>2017</td>\n",
       "      <td>manual</td>\n",
       "      <td>9010</td>\n",
       "      <td>unknown</td>\n",
       "      <td>100000</td>\n",
       "      <td>petrol</td>\n",
       "      <td>volkswagen</td>\n",
       "      <td>no</td>\n",
       "    </tr>\n",
       "  </tbody>\n",
       "</table>\n",
       "</div>"
      ],
      "text/plain": [
       "       Price  VehicleType  RegistrationYear  Gearbox  Power        Model  \\\n",
       "7661    1499        small              1999   manual   7515         lupo   \n",
       "11039      0        sedan              1998   manual  10317        other   \n",
       "25232  10900          bus              2009   manual  10520        caddy   \n",
       "33952   3740        small              2006   manual   6920         aygo   \n",
       "44520   2500  convertible              1998   manual   7512         golf   \n",
       "45053  15800  convertible              2014     auto  10218       fortwo   \n",
       "45216   1690        sedan              1999   manual   7544         golf   \n",
       "53158   1200        small              2001   manual   5411     seicento   \n",
       "56971   1995        wagon              2002   manual  11530        focus   \n",
       "57622      1      unknown              5000  unknown   5000          clk   \n",
       "62975   2200        small              1999   manual  12012         polo   \n",
       "63986   3250        sedan              2001     auto  17932        omega   \n",
       "77779    850        sedan              2000   manual  12510        astra   \n",
       "84803   1999        sedan              1991     auto  10912      unknown   \n",
       "85229      0      unknown              2016   manual  15016    ptcruiser   \n",
       "87830   2550        small              2004     auto   6226       fortwo   \n",
       "92226    950        small              2001   manual   8404        other   \n",
       "96366   1380  convertible              2001     auto  10710       megane   \n",
       "96580   4700          bus              1997   manual  10522  transporter   \n",
       "96608   1700      unknown              2017   manual   9010      unknown   \n",
       "\n",
       "       Kilometer  FuelType          Brand Repaired  \n",
       "7661      150000    petrol     volkswagen  unknown  \n",
       "11039     150000    petrol           fiat       no  \n",
       "25232     150000  gasoline     volkswagen       no  \n",
       "33952      90000   unknown         toyota       no  \n",
       "44520     150000   unknown     volkswagen  unknown  \n",
       "45053      30000    petrol          smart  unknown  \n",
       "45216     125000    petrol     volkswagen  unknown  \n",
       "53158     150000   unknown           fiat       no  \n",
       "56971     150000    petrol           ford       no  \n",
       "57622       5000    petrol  mercedes_benz  unknown  \n",
       "62975     150000    petrol     volkswagen  unknown  \n",
       "63986     150000    petrol           opel  unknown  \n",
       "77779      30000   unknown           opel       no  \n",
       "84803     150000  gasoline  mercedes_benz       no  \n",
       "85229     150000  gasoline       chrysler  unknown  \n",
       "87830     125000    petrol          smart       no  \n",
       "92226     125000    petrol         suzuki  unknown  \n",
       "96366     150000   unknown        renault       no  \n",
       "96580     150000  gasoline     volkswagen  unknown  \n",
       "96608     100000    petrol     volkswagen       no  "
      ]
     },
     "execution_count": 11,
     "metadata": {},
     "output_type": "execute_result"
    }
   ],
   "source": [
    "data.loc[data['Power']>=5000].head(20)"
   ]
  },
  {
   "cell_type": "markdown",
   "metadata": {},
   "source": [
    "Всё-таки непохоже, что просто добавили лишние нули, поэтому мы не можем просто исправить эти данные, поделив на 100. \n",
    "То же самое можно сказать об аномальной цене и километраже. Что касается RegistrationYear, мы могли бы предположить, что под 9999 имелся в виду 1999 г., а 1000 = 2000 г. Но подтверждения этому у нас нет, к тому же есть и другие аномальные годы, которые не понятно как можно было бы расшифровать (например, 5000). \n",
    "\n",
    "Принимаем решение удалить все выбросы. К тому же, метрика RMSE (и MSE) чувствительна к выбросам, поэтому их удаление позволит нам более качественно обучить модели."
   ]
  },
  {
   "cell_type": "code",
   "execution_count": 12,
   "metadata": {},
   "outputs": [],
   "source": [
    "#функция для вычленения аномальных данных методом межквантильного расстояния\n",
    "def iqr(df):\n",
    "    Q1 = df.quantile(0.25)\n",
    "    Q3 = df.quantile(0.75)\n",
    "    IQR = Q3 - Q1\n",
    "    lower = Q1 - (1.5 * IQR)\n",
    "    upper = Q3 + (1.5 * IQR)\n",
    "    \n",
    "    return lower, upper"
   ]
  },
  {
   "cell_type": "code",
   "execution_count": 13,
   "metadata": {},
   "outputs": [],
   "source": [
    "for i in ['RegistrationYear', 'Power', 'Kilometer', 'Price']:\n",
    "    lower, upper = iqr(data[i])\n",
    "    data = data[(data[i]>=lower)&(data[i]<=upper)]"
   ]
  },
  {
   "cell_type": "code",
   "execution_count": 14,
   "metadata": {},
   "outputs": [
    {
     "data": {
      "text/html": [
       "<div>\n",
       "<style scoped>\n",
       "    .dataframe tbody tr th:only-of-type {\n",
       "        vertical-align: middle;\n",
       "    }\n",
       "\n",
       "    .dataframe tbody tr th {\n",
       "        vertical-align: top;\n",
       "    }\n",
       "\n",
       "    .dataframe thead th {\n",
       "        text-align: right;\n",
       "    }\n",
       "</style>\n",
       "<table border=\"1\" class=\"dataframe\">\n",
       "  <thead>\n",
       "    <tr style=\"text-align: right;\">\n",
       "      <th></th>\n",
       "      <th>Price</th>\n",
       "      <th>RegistrationYear</th>\n",
       "      <th>Power</th>\n",
       "      <th>Kilometer</th>\n",
       "    </tr>\n",
       "  </thead>\n",
       "  <tbody>\n",
       "    <tr>\n",
       "      <th>count</th>\n",
       "      <td>272404.000000</td>\n",
       "      <td>272404.000000</td>\n",
       "      <td>272404.000000</td>\n",
       "      <td>272404.000000</td>\n",
       "    </tr>\n",
       "    <tr>\n",
       "      <th>mean</th>\n",
       "      <td>2933.546578</td>\n",
       "      <td>2002.503502</td>\n",
       "      <td>99.812628</td>\n",
       "      <td>143024.092891</td>\n",
       "    </tr>\n",
       "    <tr>\n",
       "      <th>std</th>\n",
       "      <td>2621.475383</td>\n",
       "      <td>6.094292</td>\n",
       "      <td>54.696089</td>\n",
       "      <td>15753.581318</td>\n",
       "    </tr>\n",
       "    <tr>\n",
       "      <th>min</th>\n",
       "      <td>0.000000</td>\n",
       "      <td>1986.000000</td>\n",
       "      <td>0.000000</td>\n",
       "      <td>90000.000000</td>\n",
       "    </tr>\n",
       "    <tr>\n",
       "      <th>25%</th>\n",
       "      <td>950.000000</td>\n",
       "      <td>1999.000000</td>\n",
       "      <td>65.000000</td>\n",
       "      <td>150000.000000</td>\n",
       "    </tr>\n",
       "    <tr>\n",
       "      <th>50%</th>\n",
       "      <td>2000.000000</td>\n",
       "      <td>2002.000000</td>\n",
       "      <td>101.000000</td>\n",
       "      <td>150000.000000</td>\n",
       "    </tr>\n",
       "    <tr>\n",
       "      <th>75%</th>\n",
       "      <td>4200.000000</td>\n",
       "      <td>2006.000000</td>\n",
       "      <td>138.000000</td>\n",
       "      <td>150000.000000</td>\n",
       "    </tr>\n",
       "    <tr>\n",
       "      <th>max</th>\n",
       "      <td>10999.000000</td>\n",
       "      <td>2019.000000</td>\n",
       "      <td>254.000000</td>\n",
       "      <td>150000.000000</td>\n",
       "    </tr>\n",
       "  </tbody>\n",
       "</table>\n",
       "</div>"
      ],
      "text/plain": [
       "               Price  RegistrationYear          Power      Kilometer\n",
       "count  272404.000000     272404.000000  272404.000000  272404.000000\n",
       "mean     2933.546578       2002.503502      99.812628  143024.092891\n",
       "std      2621.475383          6.094292      54.696089   15753.581318\n",
       "min         0.000000       1986.000000       0.000000   90000.000000\n",
       "25%       950.000000       1999.000000      65.000000  150000.000000\n",
       "50%      2000.000000       2002.000000     101.000000  150000.000000\n",
       "75%      4200.000000       2006.000000     138.000000  150000.000000\n",
       "max     10999.000000       2019.000000     254.000000  150000.000000"
      ]
     },
     "execution_count": 14,
     "metadata": {},
     "output_type": "execute_result"
    }
   ],
   "source": [
    "data.describe()"
   ]
  },
  {
   "cell_type": "markdown",
   "metadata": {},
   "source": [
    "Минимальная цена - 0 евро, выглядит неправдоподобно. Посмотрим, какова доля объявлений с ценой ниже 50 евро."
   ]
  },
  {
   "cell_type": "code",
   "execution_count": 15,
   "metadata": {},
   "outputs": [
    {
     "data": {
      "text/plain": [
       "0.03517569492371624"
      ]
     },
     "execution_count": 15,
     "metadata": {},
     "output_type": "execute_result"
    }
   ],
   "source": [
    "data.Price[data.Price < 50].count()/data.Price.count()"
   ]
  },
  {
   "cell_type": "markdown",
   "metadata": {},
   "source": [
    "Меньше 4%. Можем удалить эти данные без вреда для датасета."
   ]
  },
  {
   "cell_type": "code",
   "execution_count": 16,
   "metadata": {},
   "outputs": [],
   "source": [
    "data = data[data.Price >=50]"
   ]
  },
  {
   "cell_type": "markdown",
   "metadata": {},
   "source": [
    "Минимальное значение Power = 0, что тоже выглядит аномально, уберем эти данные."
   ]
  },
  {
   "cell_type": "code",
   "execution_count": 17,
   "metadata": {
    "tags": []
   },
   "outputs": [],
   "source": [
    "data = data[data.Power > 0]"
   ]
  },
  {
   "cell_type": "markdown",
   "metadata": {},
   "source": [
    "### Выводы"
   ]
  },
  {
   "cell_type": "markdown",
   "metadata": {},
   "source": [
    "Датасет довольно объемный, что хорошо, поскольку у моделей будет больше данных для обучения. Однако, он потребовал некоторой предобработки:\n",
    "\n",
    "- удаление дубликатов;\n",
    "- заполнение пропусков в категориальных признаках - их было довольно много, поэтому заполняли заглушкой unknown;\n",
    "- удаление выбросов и аномалий в количественных признаках.\n",
    "\n",
    "Теперь датасет готов для дальнейшего обучения моделей."
   ]
  },
  {
   "cell_type": "markdown",
   "metadata": {},
   "source": [
    "## Обучение моделей"
   ]
  },
  {
   "cell_type": "markdown",
   "metadata": {},
   "source": [
    "### Подготовка выборок"
   ]
  },
  {
   "cell_type": "markdown",
   "metadata": {},
   "source": [
    "В нашем распоряжении достаточно объемный датасет, поэтому мы можем позволить себе разбить его на три выборки: трейновую, валидационную и тестовую. Кросс-валидацию в данном кейсе считаем избыточной, поскольку она на таком объемном датасете будет тратить много времени, особенно на моделях градиентного бустинга."
   ]
  },
  {
   "cell_type": "code",
   "execution_count": 18,
   "metadata": {},
   "outputs": [
    {
     "name": "stdout",
     "output_type": "stream",
     "text": [
      "(140178, 10)\n",
      "(46726, 10)\n",
      "(46726, 10)\n"
     ]
    }
   ],
   "source": [
    "train, valid, test = np.split(data.sample(frac=1, random_state=321), [int(.6*len(data)), int(.8*len(data))])\n",
    "print(train.shape)\n",
    "print(valid.shape)\n",
    "print(test.shape)"
   ]
  },
  {
   "cell_type": "code",
   "execution_count": 19,
   "metadata": {},
   "outputs": [],
   "source": [
    "features_train = train.drop(['Price'], axis=1)\n",
    "target_train = train['Price']\n",
    "\n",
    "features_valid = valid.drop(['Price'], axis=1)\n",
    "target_valid = valid['Price']\n",
    "\n",
    "features_test = test.drop(['Price'], axis=1)\n",
    "target_test = test['Price']\n",
    "\n",
    "del data"
   ]
  },
  {
   "cell_type": "markdown",
   "metadata": {},
   "source": [
    "Выделим в отдельные списки категориальные и количественные признаки."
   ]
  },
  {
   "cell_type": "code",
   "execution_count": 20,
   "metadata": {},
   "outputs": [],
   "source": [
    "cat_features = ['VehicleType', 'RegistrationYear', 'Gearbox', 'Model', 'FuelType', 'Brand', 'Repaired']\n",
    "num_features = ['Power', 'Kilometer']"
   ]
  },
  {
   "cell_type": "markdown",
   "metadata": {},
   "source": [
    "### CatBoost"
   ]
  },
  {
   "cell_type": "code",
   "execution_count": 21,
   "metadata": {},
   "outputs": [],
   "source": [
    "results = {}"
   ]
  },
  {
   "cell_type": "code",
   "execution_count": 22,
   "metadata": {},
   "outputs": [
    {
     "name": "stdout",
     "output_type": "stream",
     "text": [
      "0:\tlearn: 2455.5641122\ttotal: 76.7ms\tremaining: 3.76s\n",
      "49:\tlearn: 1436.2406645\ttotal: 700ms\tremaining: 0us\n",
      "0:\tlearn: 2454.4024404\ttotal: 24ms\tremaining: 1.17s\n",
      "49:\tlearn: 1433.1850590\ttotal: 667ms\tremaining: 0us\n",
      "0:\tlearn: 2456.1827155\ttotal: 24.8ms\tremaining: 1.21s\n",
      "49:\tlearn: 1435.2133550\ttotal: 676ms\tremaining: 0us\n",
      "0:\tlearn: 2134.7015465\ttotal: 32.1ms\tremaining: 3.18s\n",
      "99:\tlearn: 1183.1164562\ttotal: 2.11s\tremaining: 0us\n",
      "0:\tlearn: 2126.8074274\ttotal: 38.7ms\tremaining: 3.83s\n",
      "99:\tlearn: 1181.0004174\ttotal: 2.2s\tremaining: 0us\n",
      "0:\tlearn: 2129.0501386\ttotal: 33.2ms\tremaining: 3.29s\n",
      "99:\tlearn: 1181.1329726\ttotal: 2.21s\tremaining: 0us\n",
      "0:\tlearn: 2392.1807556\ttotal: 40.5ms\tremaining: 8.05s\n",
      "199:\tlearn: 1211.1413067\ttotal: 4.91s\tremaining: 0us\n",
      "0:\tlearn: 2389.7855239\ttotal: 38.4ms\tremaining: 7.64s\n",
      "199:\tlearn: 1207.5128809\ttotal: 4.59s\tremaining: 0us\n",
      "0:\tlearn: 2391.5145332\ttotal: 38.4ms\tremaining: 7.65s\n",
      "199:\tlearn: 1206.1437433\ttotal: 4.85s\tremaining: 0us\n",
      "0:\tlearn: 2392.1807556\ttotal: 28.4ms\tremaining: 2.81s\n",
      "99:\tlearn: 1266.3608681\ttotal: 1.76s\tremaining: 0us\n",
      "0:\tlearn: 2389.7855239\ttotal: 27.6ms\tremaining: 2.73s\n",
      "99:\tlearn: 1267.7069490\ttotal: 1.74s\tremaining: 0us\n",
      "0:\tlearn: 2391.5145332\ttotal: 33.2ms\tremaining: 3.29s\n",
      "99:\tlearn: 1268.1499020\ttotal: 1.75s\tremaining: 0us\n",
      "0:\tlearn: 2374.9184192\ttotal: 24.8ms\tremaining: 2.45s\n",
      "99:\tlearn: 1373.0970712\ttotal: 1.3s\tremaining: 0us\n",
      "0:\tlearn: 2374.5258021\ttotal: 24.3ms\tremaining: 2.4s\n",
      "99:\tlearn: 1372.3501130\ttotal: 1.27s\tremaining: 0us\n",
      "0:\tlearn: 2375.4259268\ttotal: 24.2ms\tremaining: 2.4s\n",
      "99:\tlearn: 1381.8478758\ttotal: 1.33s\tremaining: 0us\n",
      "0:\tlearn: 2246.3442177\ttotal: 33.2ms\tremaining: 1.63s\n",
      "49:\tlearn: 1227.0647345\ttotal: 1.15s\tremaining: 0us\n",
      "0:\tlearn: 2239.6965418\ttotal: 32.3ms\tremaining: 1.58s\n",
      "49:\tlearn: 1228.2772343\ttotal: 1.11s\tremaining: 0us\n",
      "0:\tlearn: 2242.2755473\ttotal: 31.9ms\tremaining: 1.56s\n",
      "49:\tlearn: 1229.8129697\ttotal: 1.09s\tremaining: 0us\n",
      "0:\tlearn: 2368.6270265\ttotal: 33ms\tremaining: 1.62s\n",
      "49:\tlearn: 1256.6938311\ttotal: 1.13s\tremaining: 0us\n",
      "0:\tlearn: 2363.2532373\ttotal: 35.3ms\tremaining: 1.73s\n",
      "49:\tlearn: 1255.3059712\ttotal: 1.08s\tremaining: 0us\n",
      "0:\tlearn: 2366.1887601\ttotal: 33.1ms\tremaining: 1.62s\n",
      "49:\tlearn: 1254.2664147\ttotal: 1.07s\tremaining: 0us\n",
      "0:\tlearn: 2455.5641122\ttotal: 27.3ms\tremaining: 2.7s\n",
      "99:\tlearn: 1385.0190592\ttotal: 1.29s\tremaining: 0us\n",
      "0:\tlearn: 2454.4024404\ttotal: 23.6ms\tremaining: 2.34s\n",
      "99:\tlearn: 1381.3826137\ttotal: 1.29s\tremaining: 0us\n",
      "0:\tlearn: 2456.1827155\ttotal: 23.3ms\tremaining: 2.31s\n",
      "99:\tlearn: 1385.4581908\ttotal: 1.28s\tremaining: 0us\n",
      "0:\tlearn: 2246.3442177\ttotal: 59.9ms\tremaining: 11.9s\n",
      "199:\tlearn: 1158.1469881\ttotal: 8.35s\tremaining: 0us\n",
      "0:\tlearn: 2239.6965418\ttotal: 57.8ms\tremaining: 11.5s\n",
      "199:\tlearn: 1153.5494940\ttotal: 8.24s\tremaining: 0us\n",
      "0:\tlearn: 2242.2755473\ttotal: 58.5ms\tremaining: 11.6s\n",
      "199:\tlearn: 1151.2063021\ttotal: 8.1s\tremaining: 0us\n",
      "0:\tlearn: 2302.7408668\ttotal: 23.6ms\tremaining: 1.16s\n",
      "49:\tlearn: 1389.1109467\ttotal: 648ms\tremaining: 0us\n",
      "0:\tlearn: 2303.0584033\ttotal: 23.9ms\tremaining: 1.17s\n",
      "49:\tlearn: 1390.2471403\ttotal: 687ms\tremaining: 0us\n",
      "0:\tlearn: 2303.1462036\ttotal: 23ms\tremaining: 1.13s\n",
      "49:\tlearn: 1398.6528517\ttotal: 648ms\tremaining: 0us\n",
      "0:\tlearn: 2281.4329426\ttotal: 37.6ms\tremaining: 7.48s\n",
      "199:\tlearn: 1195.7514746\ttotal: 4.97s\tremaining: 0us\n",
      "0:\tlearn: 2279.2366955\ttotal: 45.8ms\tremaining: 9.11s\n",
      "199:\tlearn: 1195.6182215\ttotal: 4.91s\tremaining: 0us\n",
      "0:\tlearn: 2280.0267970\ttotal: 37.8ms\tremaining: 7.52s\n",
      "199:\tlearn: 1191.7301383\ttotal: 4.8s\tremaining: 0us\n",
      "0:\tlearn: 2374.9184192\ttotal: 32ms\tremaining: 6.37s\n",
      "199:\tlearn: 1363.9009534\ttotal: 2.48s\tremaining: 0us\n",
      "0:\tlearn: 2374.5258021\ttotal: 24.2ms\tremaining: 4.83s\n",
      "199:\tlearn: 1363.2606676\ttotal: 2.56s\tremaining: 0us\n",
      "0:\tlearn: 2375.4259268\ttotal: 23.9ms\tremaining: 4.76s\n",
      "199:\tlearn: 1369.4885426\ttotal: 2.56s\tremaining: 0us\n",
      "0:\tlearn: 2368.6270265\ttotal: 32.5ms\tremaining: 3.21s\n",
      "99:\tlearn: 1209.6602149\ttotal: 2.21s\tremaining: 0us\n",
      "0:\tlearn: 2363.2532373\ttotal: 32.7ms\tremaining: 3.23s\n",
      "99:\tlearn: 1209.9977762\ttotal: 2.19s\tremaining: 0us\n",
      "0:\tlearn: 2366.1887601\ttotal: 31.8ms\tremaining: 3.15s\n",
      "99:\tlearn: 1209.7615099\ttotal: 2.14s\tremaining: 0us\n",
      "0:\tlearn: 2281.4329426\ttotal: 27.2ms\tremaining: 1.33s\n",
      "49:\tlearn: 1284.9926820\ttotal: 851ms\tremaining: 0us\n",
      "0:\tlearn: 2279.2366955\ttotal: 28.3ms\tremaining: 1.39s\n",
      "49:\tlearn: 1286.7308761\ttotal: 865ms\tremaining: 0us\n",
      "0:\tlearn: 2280.0267970\ttotal: 27.5ms\tremaining: 1.35s\n",
      "49:\tlearn: 1285.4659221\ttotal: 909ms\tremaining: 0us\n",
      "0:\tlearn: 2180.9046143\ttotal: 27.4ms\tremaining: 2.71s\n",
      "99:\tlearn: 1234.8748066\ttotal: 1.71s\tremaining: 0us\n",
      "0:\tlearn: 2178.8919254\ttotal: 28.2ms\tremaining: 2.8s\n",
      "99:\tlearn: 1224.9590658\ttotal: 1.72s\tremaining: 0us\n",
      "0:\tlearn: 2178.7908639\ttotal: 28ms\tremaining: 2.77s\n",
      "99:\tlearn: 1230.0045112\ttotal: 1.7s\tremaining: 0us\n",
      "0:\tlearn: 2241.7809411\ttotal: 89.7ms\tremaining: 17.8s\n",
      "199:\tlearn: 1147.8986000\ttotal: 12.1s\tremaining: 0us\n"
     ]
    }
   ],
   "source": [
    "#подбор гиперпараметров для CatBoost\n",
    "\n",
    "params = {'iterations': [50,100,200], \n",
    "          'depth': [1, 2, 3],\n",
    "          'learning_rate':[0.2, 0.3, 0.4] }\n",
    "\n",
    "catboost_cv = RandomizedSearchCV(estimator=CatBoostRegressor(cat_features=cat_features, verbose = 300),\n",
    "                                 param_distributions=params, \n",
    "                                 scoring='neg_mean_squared_error', \n",
    "                                 cv=3, n_iter=15, random_state=321)\n",
    "\n",
    "catboost_cv.fit(features_train, target_train)\n",
    "\n",
    "catboost_model = catboost_cv.best_estimator_"
   ]
  },
  {
   "cell_type": "code",
   "execution_count": 23,
   "metadata": {},
   "outputs": [
    {
     "name": "stdout",
     "output_type": "stream",
     "text": [
      "0:\tlearn: 2241.7809411\ttotal: 89.7ms\tremaining: 17.8s\n",
      "199:\tlearn: 1147.8986000\ttotal: 11.9s\tremaining: 0us\n",
      "CPU times: user 12 s, sys: 152 ms, total: 12.2 s\n",
      "Wall time: 12.9 s\n"
     ]
    },
    {
     "data": {
      "text/plain": [
       "<catboost.core.CatBoostRegressor at 0x7fac5fb147c0>"
      ]
     },
     "execution_count": 23,
     "metadata": {},
     "output_type": "execute_result"
    }
   ],
   "source": [
    "%%time\n",
    "# посмотрим на скорость обучения модели\n",
    "catboost_model.fit(features_train, target_train)"
   ]
  },
  {
   "cell_type": "code",
   "execution_count": 24,
   "metadata": {},
   "outputs": [
    {
     "name": "stdout",
     "output_type": "stream",
     "text": [
      "1140.0410521998474\n",
      "CPU times: user 111 ms, sys: 4.1 ms, total: 115 ms\n",
      "Wall time: 112 ms\n"
     ]
    }
   ],
   "source": [
    "%%time\n",
    "# посмотрим на результаты модели на валидационной выборке\n",
    "preds = catboost_model.predict(features_valid)\n",
    "\n",
    "rmse = mean_squared_error(target_valid, preds, squared=False)\n",
    "results['CatBoost'] = rmse\n",
    "print(rmse)"
   ]
  },
  {
   "cell_type": "markdown",
   "metadata": {},
   "source": [
    "### LightGBM"
   ]
  },
  {
   "cell_type": "code",
   "execution_count": 25,
   "metadata": {},
   "outputs": [],
   "source": [
    "for i in cat_features:\n",
    "    features_train[i] = features_train[i].astype('category')\n",
    "    features_valid[i] = features_valid[i].astype('category')\n",
    "    features_test[i] = features_test[i].astype('category')"
   ]
  },
  {
   "cell_type": "code",
   "execution_count": 26,
   "metadata": {},
   "outputs": [
    {
     "name": "stdout",
     "output_type": "stream",
     "text": [
      "[LightGBM] [Debug] Dataset::GetMultiBinFromSparseFeatures: sparse rate 0.779656\n",
      "[LightGBM] [Debug] Dataset::GetMultiBinFromAllFeatures: sparse rate 0.271096\n",
      "[LightGBM] [Debug] init for col-wise cost 0.003427 seconds, init for row-wise cost 0.095392 seconds\n",
      "[LightGBM] [Warning] Auto-choosing row-wise multi-threading, the overhead of testing was 0.004598 seconds.\n",
      "You can set `force_row_wise=true` to remove the overhead.\n",
      "And if memory is not enough, you can set `force_col_wise=true`.\n",
      "[LightGBM] [Debug] Using Sparse Multi-Val Bin\n",
      "[LightGBM] [Info] Total Bins 576\n",
      "[LightGBM] [Info] Number of data points in the train set: 140178, number of used features: 9\n",
      "[LightGBM] [Info] Start training from score 3183.751273\n",
      "[LightGBM] [Debug] Trained a tree with leaves = 8 and depth = 3\n",
      "[LightGBM] [Debug] Trained a tree with leaves = 8 and depth = 3\n",
      "[LightGBM] [Debug] Trained a tree with leaves = 8 and depth = 3\n",
      "[LightGBM] [Debug] Trained a tree with leaves = 8 and depth = 3\n",
      "[LightGBM] [Debug] Trained a tree with leaves = 8 and depth = 3\n",
      "[LightGBM] [Debug] Trained a tree with leaves = 8 and depth = 3\n",
      "[LightGBM] [Debug] Trained a tree with leaves = 8 and depth = 3\n",
      "[LightGBM] [Debug] Trained a tree with leaves = 8 and depth = 3\n",
      "[LightGBM] [Debug] Trained a tree with leaves = 8 and depth = 3\n",
      "[LightGBM] [Debug] Trained a tree with leaves = 8 and depth = 3\n",
      "[LightGBM] [Debug] Trained a tree with leaves = 8 and depth = 3\n",
      "[LightGBM] [Debug] Trained a tree with leaves = 8 and depth = 3\n",
      "[LightGBM] [Debug] Trained a tree with leaves = 8 and depth = 3\n",
      "[LightGBM] [Debug] Trained a tree with leaves = 8 and depth = 3\n",
      "[LightGBM] [Debug] Trained a tree with leaves = 8 and depth = 3\n",
      "[LightGBM] [Debug] Trained a tree with leaves = 8 and depth = 3\n",
      "[LightGBM] [Debug] Trained a tree with leaves = 8 and depth = 3\n",
      "[LightGBM] [Debug] Trained a tree with leaves = 8 and depth = 3\n",
      "[LightGBM] [Warning] No further splits with positive gain, best gain: -inf\n",
      "[LightGBM] [Debug] Trained a tree with leaves = 7 and depth = 3\n",
      "[LightGBM] [Debug] Trained a tree with leaves = 8 and depth = 3\n",
      "[LightGBM] [Debug] Trained a tree with leaves = 8 and depth = 3\n",
      "[LightGBM] [Debug] Trained a tree with leaves = 8 and depth = 3\n",
      "[LightGBM] [Debug] Trained a tree with leaves = 8 and depth = 3\n",
      "[LightGBM] [Debug] Trained a tree with leaves = 8 and depth = 3\n",
      "[LightGBM] [Debug] Trained a tree with leaves = 8 and depth = 3\n",
      "[LightGBM] [Debug] Trained a tree with leaves = 8 and depth = 3\n",
      "[LightGBM] [Debug] Trained a tree with leaves = 8 and depth = 3\n",
      "[LightGBM] [Debug] Trained a tree with leaves = 8 and depth = 3\n",
      "[LightGBM] [Debug] Trained a tree with leaves = 8 and depth = 3\n",
      "[LightGBM] [Debug] Trained a tree with leaves = 8 and depth = 3\n",
      "[LightGBM] [Debug] Trained a tree with leaves = 8 and depth = 3\n",
      "[LightGBM] [Debug] Trained a tree with leaves = 8 and depth = 3\n",
      "[LightGBM] [Debug] Trained a tree with leaves = 8 and depth = 3\n",
      "[LightGBM] [Debug] Trained a tree with leaves = 8 and depth = 3\n",
      "[LightGBM] [Debug] Trained a tree with leaves = 8 and depth = 3\n",
      "[LightGBM] [Debug] Trained a tree with leaves = 8 and depth = 3\n",
      "[LightGBM] [Debug] Trained a tree with leaves = 8 and depth = 3\n",
      "[LightGBM] [Debug] Trained a tree with leaves = 8 and depth = 3\n",
      "[LightGBM] [Debug] Trained a tree with leaves = 8 and depth = 3\n",
      "[LightGBM] [Debug] Trained a tree with leaves = 8 and depth = 3\n",
      "[LightGBM] [Debug] Trained a tree with leaves = 8 and depth = 3\n",
      "[LightGBM] [Debug] Trained a tree with leaves = 8 and depth = 3\n",
      "[LightGBM] [Debug] Trained a tree with leaves = 8 and depth = 3\n",
      "[LightGBM] [Debug] Trained a tree with leaves = 8 and depth = 3\n",
      "[LightGBM] [Debug] Trained a tree with leaves = 8 and depth = 3\n",
      "[LightGBM] [Debug] Trained a tree with leaves = 8 and depth = 3\n",
      "[LightGBM] [Debug] Trained a tree with leaves = 8 and depth = 3\n",
      "[LightGBM] [Debug] Trained a tree with leaves = 8 and depth = 3\n",
      "[LightGBM] [Debug] Trained a tree with leaves = 8 and depth = 3\n",
      "[LightGBM] [Debug] Trained a tree with leaves = 8 and depth = 3\n",
      "[LightGBM] [Debug] Trained a tree with leaves = 8 and depth = 3\n",
      "[LightGBM] [Debug] Trained a tree with leaves = 8 and depth = 3\n",
      "[LightGBM] [Debug] Trained a tree with leaves = 8 and depth = 3\n",
      "[LightGBM] [Warning] No further splits with positive gain, best gain: -inf\n",
      "[LightGBM] [Debug] Trained a tree with leaves = 7 and depth = 3\n",
      "[LightGBM] [Debug] Trained a tree with leaves = 8 and depth = 3\n",
      "[LightGBM] [Warning] No further splits with positive gain, best gain: -inf\n",
      "[LightGBM] [Debug] Trained a tree with leaves = 7 and depth = 3\n",
      "[LightGBM] [Debug] Trained a tree with leaves = 8 and depth = 3\n",
      "[LightGBM] [Debug] Trained a tree with leaves = 8 and depth = 3\n",
      "[LightGBM] [Debug] Trained a tree with leaves = 8 and depth = 3\n",
      "[LightGBM] [Debug] Trained a tree with leaves = 8 and depth = 3\n",
      "[LightGBM] [Debug] Trained a tree with leaves = 8 and depth = 3\n",
      "[LightGBM] [Debug] Trained a tree with leaves = 8 and depth = 3\n",
      "[LightGBM] [Warning] No further splits with positive gain, best gain: -inf\n",
      "[LightGBM] [Debug] Trained a tree with leaves = 7 and depth = 3\n",
      "[LightGBM] [Debug] Trained a tree with leaves = 8 and depth = 3\n",
      "[LightGBM] [Debug] Trained a tree with leaves = 8 and depth = 3\n",
      "[LightGBM] [Debug] Trained a tree with leaves = 8 and depth = 3\n",
      "[LightGBM] [Debug] Trained a tree with leaves = 8 and depth = 3\n",
      "[LightGBM] [Debug] Trained a tree with leaves = 8 and depth = 3\n",
      "[LightGBM] [Debug] Trained a tree with leaves = 8 and depth = 3\n",
      "[LightGBM] [Debug] Trained a tree with leaves = 8 and depth = 3\n",
      "[LightGBM] [Debug] Trained a tree with leaves = 8 and depth = 3\n",
      "[LightGBM] [Debug] Trained a tree with leaves = 8 and depth = 3\n",
      "[LightGBM] [Debug] Trained a tree with leaves = 8 and depth = 3\n",
      "[LightGBM] [Debug] Trained a tree with leaves = 8 and depth = 3\n",
      "[LightGBM] [Debug] Trained a tree with leaves = 8 and depth = 3\n",
      "[LightGBM] [Debug] Trained a tree with leaves = 8 and depth = 3\n",
      "[LightGBM] [Debug] Trained a tree with leaves = 8 and depth = 3\n",
      "[LightGBM] [Debug] Trained a tree with leaves = 8 and depth = 3\n",
      "[LightGBM] [Debug] Trained a tree with leaves = 8 and depth = 3\n",
      "[LightGBM] [Debug] Trained a tree with leaves = 8 and depth = 3\n",
      "[LightGBM] [Debug] Trained a tree with leaves = 8 and depth = 3\n",
      "[LightGBM] [Debug] Trained a tree with leaves = 8 and depth = 3\n",
      "[LightGBM] [Debug] Trained a tree with leaves = 8 and depth = 3\n",
      "[LightGBM] [Debug] Trained a tree with leaves = 8 and depth = 3\n",
      "[LightGBM] [Debug] Trained a tree with leaves = 8 and depth = 3\n",
      "[LightGBM] [Debug] Trained a tree with leaves = 8 and depth = 3\n",
      "[LightGBM] [Debug] Trained a tree with leaves = 8 and depth = 3\n",
      "[LightGBM] [Debug] Trained a tree with leaves = 8 and depth = 3\n",
      "[LightGBM] [Debug] Trained a tree with leaves = 8 and depth = 3\n",
      "[LightGBM] [Warning] No further splits with positive gain, best gain: -inf\n",
      "[LightGBM] [Debug] Trained a tree with leaves = 5 and depth = 3\n",
      "[LightGBM] [Debug] Trained a tree with leaves = 8 and depth = 3\n",
      "[LightGBM] [Debug] Trained a tree with leaves = 8 and depth = 3\n",
      "[LightGBM] [Debug] Trained a tree with leaves = 8 and depth = 3\n",
      "[LightGBM] [Debug] Trained a tree with leaves = 8 and depth = 3\n",
      "[LightGBM] [Debug] Trained a tree with leaves = 8 and depth = 3\n",
      "[LightGBM] [Debug] Trained a tree with leaves = 8 and depth = 3\n",
      "[LightGBM] [Debug] Trained a tree with leaves = 8 and depth = 3\n",
      "[LightGBM] [Debug] Trained a tree with leaves = 8 and depth = 3\n",
      "[LightGBM] [Debug] Trained a tree with leaves = 8 and depth = 3\n",
      "[LightGBM] [Debug] Trained a tree with leaves = 8 and depth = 3\n",
      "CPU times: user 2.18 s, sys: 10.7 ms, total: 2.19 s\n",
      "Wall time: 2.17 s\n"
     ]
    },
    {
     "data": {
      "text/plain": [
       "LGBMRegressor(learning_rate=0.4, max_depth=3, verbose=100)"
      ]
     },
     "execution_count": 26,
     "metadata": {},
     "output_type": "execute_result"
    }
   ],
   "source": [
    "%%time\n",
    "\n",
    "lgbm_model = LGBMRegressor(max_depth=3, learning_rate=0.4, verbose=100)\n",
    "\n",
    "lgbm_model.fit(features_train, target_train)"
   ]
  },
  {
   "cell_type": "code",
   "execution_count": 27,
   "metadata": {},
   "outputs": [
    {
     "name": "stdout",
     "output_type": "stream",
     "text": [
      "1109.361694579379\n",
      "CPU times: user 258 ms, sys: 4.17 ms, total: 262 ms\n",
      "Wall time: 205 ms\n"
     ]
    }
   ],
   "source": [
    "%%time\n",
    "# посмотрим на результаты модели на валидационной выборке\n",
    "preds = lgbm_model.predict(features_valid)\n",
    "\n",
    "rmse = mean_squared_error(target_valid, preds, squared=False)\n",
    "results['LightGBM'] = rmse\n",
    "print(rmse)"
   ]
  },
  {
   "cell_type": "markdown",
   "metadata": {},
   "source": [
    "### Решающее дерево"
   ]
  },
  {
   "cell_type": "code",
   "execution_count": 28,
   "metadata": {},
   "outputs": [],
   "source": [
    "# Pipeline для Решающего дерева\n",
    "\n",
    "# кодируем категориальные признаки\n",
    "cat_transformer = Pipeline(steps=[\n",
    "    ('ordinal_encoder', OrdinalEncoder(handle_unknown='use_encoded_value', unknown_value=-1)),\n",
    "])\n",
    "\n",
    "# масштабируем числовые признаки\n",
    "num_transformer = Pipeline(steps=[\n",
    "    ('scaler', StandardScaler()),\n",
    "])\n",
    "\n",
    "# объединяем Pipeline для предобработки\n",
    "preprocessor = ColumnTransformer(\n",
    "    transformers=[\n",
    "        ('cat', cat_transformer, cat_features),\n",
    "        ('num', num_transformer, num_features),\n",
    "    ])\n",
    "\n",
    "# Определение финального Pipeline\n",
    "tree_pipe = Pipeline(steps=[('preprocessor', preprocessor),\n",
    "                            ('model', DecisionTreeRegressor(random_state=321))])\n"
   ]
  },
  {
   "cell_type": "code",
   "execution_count": 29,
   "metadata": {},
   "outputs": [],
   "source": [
    "# Подбор гиперпараметров\n",
    "tree_params = {\n",
    "   'model__max_depth': range(1,8,1),\n",
    "   'model__min_samples_leaf': range(2,8,1),\n",
    "   'model__min_samples_split': [2,3,4,5]\n",
    "}\n",
    "\n",
    "tree_cv = RandomizedSearchCV(tree_pipe, tree_params, cv=3, random_state=321, \n",
    "                            scoring='neg_mean_squared_error', n_jobs=-1)\n",
    "\n",
    "tree_cv.fit(features_train, target_train)\n",
    "tree_model = tree_cv.best_estimator_"
   ]
  },
  {
   "cell_type": "code",
   "execution_count": 30,
   "metadata": {},
   "outputs": [
    {
     "name": "stdout",
     "output_type": "stream",
     "text": [
      "CPU times: user 342 ms, sys: 0 ns, total: 342 ms\n",
      "Wall time: 348 ms\n"
     ]
    },
    {
     "data": {
      "text/plain": [
       "Pipeline(steps=[('preprocessor',\n",
       "                 ColumnTransformer(transformers=[('cat',\n",
       "                                                  Pipeline(steps=[('ordinal_encoder',\n",
       "                                                                   OrdinalEncoder(handle_unknown='use_encoded_value',\n",
       "                                                                                  unknown_value=-1))]),\n",
       "                                                  ['VehicleType',\n",
       "                                                   'RegistrationYear',\n",
       "                                                   'Gearbox', 'Model',\n",
       "                                                   'FuelType', 'Brand',\n",
       "                                                   'Repaired']),\n",
       "                                                 ('num',\n",
       "                                                  Pipeline(steps=[('scaler',\n",
       "                                                                   StandardScaler())]),\n",
       "                                                  ['Power', 'Kilometer'])])),\n",
       "                ('model',\n",
       "                 DecisionTreeRegressor(max_depth=7, min_samples_leaf=4,\n",
       "                                       min_samples_split=5,\n",
       "                                       random_state=321))])"
      ]
     },
     "execution_count": 30,
     "metadata": {},
     "output_type": "execute_result"
    }
   ],
   "source": [
    "%%time\n",
    "# смотрим на скорость обучения модели\n",
    "\n",
    "tree_model.fit(features_train, target_train)"
   ]
  },
  {
   "cell_type": "code",
   "execution_count": 31,
   "metadata": {},
   "outputs": [
    {
     "name": "stdout",
     "output_type": "stream",
     "text": [
      "1425.1090778414946\n",
      "CPU times: user 60.5 ms, sys: 3.94 ms, total: 64.4 ms\n",
      "Wall time: 63 ms\n"
     ]
    }
   ],
   "source": [
    "%%time\n",
    "# посмотрим на результаты модели на валидационной выборке\n",
    "preds = tree_model.predict(features_valid)\n",
    "\n",
    "rmse = mean_squared_error(target_valid, preds, squared=False)\n",
    "results['DecisionTree'] = rmse\n",
    "print(rmse)"
   ]
  },
  {
   "cell_type": "markdown",
   "metadata": {},
   "source": [
    "### Случайный лес"
   ]
  },
  {
   "cell_type": "code",
   "execution_count": 32,
   "metadata": {},
   "outputs": [],
   "source": [
    "# Pipeline для Случайного леса\n",
    "\n",
    "forest_pipe = Pipeline(steps=[('preprocessor', preprocessor),\n",
    "                            ('model', RandomForestRegressor(random_state=321))])"
   ]
  },
  {
   "cell_type": "code",
   "execution_count": 33,
   "metadata": {},
   "outputs": [],
   "source": [
    "# Подбор гиперпараметров\n",
    "\n",
    "forest_params = {\n",
    "   'model__max_depth': range(1,8,1),\n",
    "   'model__max_features': [None, \"sqrt\", \"log2\"],\n",
    "   'model__n_estimators': [10, 15, 20],\n",
    "   'model__min_samples_leaf': range(2,8,1),\n",
    "   'model__min_samples_split': [2,3,4,5]\n",
    "}\n",
    "\n",
    "forest_cv = RandomizedSearchCV(forest_pipe, forest_params, cv=3, random_state=321, \n",
    "                            scoring='neg_mean_squared_error', n_jobs=-1)\n",
    "\n",
    "forest_cv.fit(features_train, target_train)\n",
    "\n",
    "forest_model = forest_cv.best_estimator_"
   ]
  },
  {
   "cell_type": "code",
   "execution_count": 34,
   "metadata": {},
   "outputs": [
    {
     "name": "stdout",
     "output_type": "stream",
     "text": [
      "CPU times: user 636 ms, sys: 0 ns, total: 636 ms\n",
      "Wall time: 642 ms\n"
     ]
    },
    {
     "data": {
      "text/plain": [
       "Pipeline(steps=[('preprocessor',\n",
       "                 ColumnTransformer(transformers=[('cat',\n",
       "                                                  Pipeline(steps=[('ordinal_encoder',\n",
       "                                                                   OrdinalEncoder(handle_unknown='use_encoded_value',\n",
       "                                                                                  unknown_value=-1))]),\n",
       "                                                  ['VehicleType',\n",
       "                                                   'RegistrationYear',\n",
       "                                                   'Gearbox', 'Model',\n",
       "                                                   'FuelType', 'Brand',\n",
       "                                                   'Repaired']),\n",
       "                                                 ('num',\n",
       "                                                  Pipeline(steps=[('scaler',\n",
       "                                                                   StandardScaler())]),\n",
       "                                                  ['Power', 'Kilometer'])])),\n",
       "                ('model',\n",
       "                 RandomForestRegressor(max_depth=7, max_features='sqrt',\n",
       "                                       min_samples_leaf=6, min_samples_split=5,\n",
       "                                       n_estimators=10, random_state=321))])"
      ]
     },
     "execution_count": 34,
     "metadata": {},
     "output_type": "execute_result"
    }
   ],
   "source": [
    "%%time\n",
    "\n",
    "forest_model.fit(features_train, target_train)"
   ]
  },
  {
   "cell_type": "code",
   "execution_count": 35,
   "metadata": {},
   "outputs": [
    {
     "name": "stdout",
     "output_type": "stream",
     "text": [
      "1379.6765117242649\n",
      "CPU times: user 89.4 ms, sys: 18 µs, total: 89.4 ms\n",
      "Wall time: 95.5 ms\n"
     ]
    }
   ],
   "source": [
    "%%time\n",
    "# посмотрим на результаты модели на валидационной выборке\n",
    "preds = forest_model.predict(features_valid)\n",
    "\n",
    "rmse = mean_squared_error(target_valid, preds, squared=False)\n",
    "results['RandomForest'] = rmse\n",
    "print(rmse)"
   ]
  },
  {
   "cell_type": "markdown",
   "metadata": {},
   "source": [
    "### Линейная регрессия"
   ]
  },
  {
   "cell_type": "code",
   "execution_count": 36,
   "metadata": {
    "scrolled": true,
    "tags": []
   },
   "outputs": [
    {
     "name": "stdout",
     "output_type": "stream",
     "text": [
      "CPU times: user 7.71 s, sys: 11.6 s, total: 19.3 s\n",
      "Wall time: 19.2 s\n"
     ]
    },
    {
     "data": {
      "text/plain": [
       "Pipeline(steps=[('preprocessor',\n",
       "                 ColumnTransformer(transformers=[('cat',\n",
       "                                                  Pipeline(steps=[('ohe',\n",
       "                                                                   OneHotEncoder(handle_unknown='ignore'))]),\n",
       "                                                  ['VehicleType',\n",
       "                                                   'RegistrationYear',\n",
       "                                                   'Gearbox', 'Model',\n",
       "                                                   'FuelType', 'Brand',\n",
       "                                                   'Repaired']),\n",
       "                                                 ('num',\n",
       "                                                  Pipeline(steps=[('scaler',\n",
       "                                                                   StandardScaler())]),\n",
       "                                                  ['Power', 'Kilometer'])])),\n",
       "                ('model', LinearRegression())])"
      ]
     },
     "execution_count": 36,
     "metadata": {},
     "output_type": "execute_result"
    }
   ],
   "source": [
    "%%time\n",
    "# Pipeline для Линейной регрессии\n",
    "cat_transformer = Pipeline(steps=[\n",
    "    ('ohe', OneHotEncoder(handle_unknown='ignore')),\n",
    "])\n",
    "\n",
    "num_transformer = Pipeline(steps=[\n",
    "    ('scaler', StandardScaler()),\n",
    "])\n",
    "\n",
    "preprocessor = ColumnTransformer(\n",
    "    transformers=[\n",
    "        ('cat', cat_transformer, cat_features),\n",
    "        ('num', num_transformer, num_features),\n",
    "    ])\n",
    "\n",
    "# Определение финального Pipeline\n",
    "linear_pipe = Pipeline(steps=[('preprocessor', preprocessor),\n",
    "                            ('model', LinearRegression())])\n",
    "\n",
    "linear_pipe.fit(features_train, target_train)"
   ]
  },
  {
   "cell_type": "code",
   "execution_count": 37,
   "metadata": {},
   "outputs": [
    {
     "name": "stdout",
     "output_type": "stream",
     "text": [
      "1287.7209380993374\n",
      "CPU times: user 73.8 ms, sys: 74 µs, total: 73.9 ms\n",
      "Wall time: 72.1 ms\n"
     ]
    }
   ],
   "source": [
    "%%time\n",
    "preds = linear_pipe.predict(features_valid)\n",
    "\n",
    "rmse = mean_squared_error(target_valid, preds, squared=False)\n",
    "results['LinearRegression'] = rmse\n",
    "print(rmse)"
   ]
  },
  {
   "cell_type": "markdown",
   "metadata": {},
   "source": [
    "## Анализ моделей"
   ]
  },
  {
   "cell_type": "code",
   "execution_count": 38,
   "metadata": {},
   "outputs": [
    {
     "data": {
      "text/plain": [
       "CatBoost            1140.041052\n",
       "LightGBM            1109.361695\n",
       "DecisionTree        1425.109078\n",
       "RandomForest        1379.676512\n",
       "LinearRegression    1287.720938\n",
       "dtype: float64"
      ]
     },
     "execution_count": 38,
     "metadata": {},
     "output_type": "execute_result"
    }
   ],
   "source": [
    "results = pd.Series(results)\n",
    "results"
   ]
  },
  {
   "cell_type": "code",
   "execution_count": 39,
   "metadata": {
    "scrolled": true
   },
   "outputs": [
    {
     "data": {
      "image/png": "[encoded data removed]",
      "text/plain": [
       "<Figure size 432x288 with 1 Axes>"
      ]
     },
     "metadata": {
      "needs_background": "light"
     },
     "output_type": "display_data"
    }
   ],
   "source": [
    "results.plot(kind='bar', title='RMSE for different steps')\n",
    "plt.show()"
   ]
  },
  {
   "cell_type": "markdown",
   "metadata": {},
   "source": [
    "Все модели показали RMSE меньше 2500. Наилучшие результаты - у моделей градиентного бустинга. При этом LightGBM обучается быстрее, чем CatBoost. Скорость предсказания у обеих моделей высокая, у CatBoost несколько ниже.\n",
    "\n",
    "Что касается остальных моделей, среди них лучшие результаты RMSE показала Линейная регрессия. Но она и самая долгая среди этих моделей. Быстрее всех обучается модель Решающего дерева. По предсказаниям аналогичная ситуация: самая быстрая модель - решающее дерево.\n",
    "\n",
    "Таким образом, если скорость - решающий фактор, можно использовать модель Решающего дерева, хотя его точность предсказания самая низкая, но отвечает запросу \"RMSE меньше 2500\".\n",
    "\n",
    "Если рассматриваем баланс между скоростью и точностью, оптимальный вариант - модель LightBGM."
   ]
  },
  {
   "cell_type": "markdown",
   "metadata": {},
   "source": [
    "### Тестирование модели"
   ]
  },
  {
   "cell_type": "code",
   "execution_count": 40,
   "metadata": {},
   "outputs": [
    {
     "name": "stdout",
     "output_type": "stream",
     "text": [
      "CPU times: user 289 ms, sys: 0 ns, total: 289 ms\n",
      "Wall time: 285 ms\n"
     ]
    },
    {
     "data": {
      "text/plain": [
       "1110.5349626751113"
      ]
     },
     "execution_count": 40,
     "metadata": {},
     "output_type": "execute_result"
    }
   ],
   "source": [
    "%%time\n",
    "preds = lgbm_model.predict(features_test)\n",
    "\n",
    "rmse = mean_squared_error(target_test, preds, squared=False)\n",
    "rmse"
   ]
  },
  {
   "cell_type": "markdown",
   "metadata": {},
   "source": [
    "Модель показала хороший результат."
   ]
  },
  {
   "cell_type": "markdown",
   "metadata": {},
   "source": [
    "## Выводы"
   ]
  },
  {
   "cell_type": "markdown",
   "metadata": {},
   "source": [
    "Перед нами стояла задача: построить модель для определения стоимости автомобиля. \n",
    "\n",
    "Критерии, на которые мы опирались: \n",
    "\n",
    "- качество предсказания (метрика RMSE не менее 2500);\n",
    "- скорость предсказания;\n",
    "- время обучения.\n",
    "\n",
    "Мы предобработали данные и проверили несколько моделей: CatBoost, LightGBM, Решающее дерево, Случайный лес и Линейная регрессия, применив различные гиперпараметры.\n",
    "\n",
    "В результате нам удалось выбрать наиболее эффективную модель, применение которой даёт хороший показатель RMSE на тестовой выборке: 1110.5 и демонстрирует высокую скорость обучения и предсказания."
   ]
  }
 ],
 "metadata": {
  "ExecuteTimeLog": [
   {
    "duration": 2800,
    "start_time": "2023-06-27T20:17:24.200Z"
   },
   {
    "duration": 4483,
    "start_time": "2023-06-27T20:17:29.804Z"
   },
   {
    "duration": 197,
    "start_time": "2023-06-27T20:17:37.920Z"
   },
   {
    "duration": 55,
    "start_time": "2023-06-27T20:17:45.961Z"
   },
   {
    "duration": 189,
    "start_time": "2023-06-27T20:17:51.710Z"
   },
   {
    "duration": 337,
    "start_time": "2023-06-27T20:17:56.646Z"
   },
   {
    "duration": 771,
    "start_time": "2023-06-27T20:18:06.728Z"
   },
   {
    "duration": 5,
    "start_time": "2023-06-27T20:18:22.223Z"
   },
   {
    "duration": 18,
    "start_time": "2023-06-27T20:18:24.619Z"
   },
   {
    "duration": 59,
    "start_time": "2023-06-27T20:18:27.570Z"
   },
   {
    "duration": 12,
    "start_time": "2023-06-27T20:18:32.537Z"
   },
   {
    "duration": 37,
    "start_time": "2023-06-27T20:18:34.992Z"
   },
   {
    "duration": 36,
    "start_time": "2023-06-27T20:18:39.022Z"
   },
   {
    "duration": 387,
    "start_time": "2023-06-27T20:18:44.862Z"
   },
   {
    "duration": 21,
    "start_time": "2023-06-27T20:18:48.630Z"
   },
   {
    "duration": 84,
    "start_time": "2023-06-27T20:18:51.122Z"
   },
   {
    "duration": 4,
    "start_time": "2023-06-27T20:18:54.146Z"
   },
   {
    "duration": 159,
    "start_time": "2023-06-27T20:19:17.500Z"
   },
   {
    "duration": 943983,
    "start_time": "2023-06-27T20:20:35.657Z"
   },
   {
    "duration": 229314,
    "start_time": "2023-06-27T20:37:31.534Z"
   },
   {
    "duration": 425,
    "start_time": "2023-06-27T20:45:40.655Z"
   },
   {
    "duration": 1961,
    "start_time": "2023-06-28T18:12:11.736Z"
   },
   {
    "duration": 3263,
    "start_time": "2023-06-28T18:12:16.522Z"
   },
   {
    "duration": 367,
    "start_time": "2023-06-28T18:30:34.896Z"
   },
   {
    "duration": 37,
    "start_time": "2023-06-28T18:30:57.225Z"
   },
   {
    "duration": 137,
    "start_time": "2023-06-28T18:31:00.854Z"
   },
   {
    "duration": 208,
    "start_time": "2023-06-28T18:31:04.665Z"
   },
   {
    "duration": 147,
    "start_time": "2023-06-28T18:31:08.073Z"
   },
   {
    "duration": 345,
    "start_time": "2023-06-28T18:31:12.672Z"
   },
   {
    "duration": 22,
    "start_time": "2023-06-28T18:33:14.589Z"
   },
   {
    "duration": 16,
    "start_time": "2023-06-28T18:34:18.991Z"
   },
   {
    "duration": 4,
    "start_time": "2023-06-28T18:48:04.741Z"
   },
   {
    "duration": 190,
    "start_time": "2023-06-28T18:48:09.361Z"
   },
   {
    "duration": 70,
    "start_time": "2023-06-28T18:48:25.321Z"
   },
   {
    "duration": 8,
    "start_time": "2023-06-28T18:51:44.707Z"
   },
   {
    "duration": 1804,
    "start_time": "2023-06-28T18:54:28.209Z"
   },
   {
    "duration": 1181,
    "start_time": "2023-06-28T18:54:31.745Z"
   },
   {
    "duration": 40,
    "start_time": "2023-06-28T18:54:38.300Z"
   },
   {
    "duration": 268,
    "start_time": "2023-06-28T18:54:43.644Z"
   },
   {
    "duration": 4,
    "start_time": "2023-06-28T18:54:55.314Z"
   },
   {
    "duration": 287,
    "start_time": "2023-06-28T18:54:57.942Z"
   },
   {
    "duration": 85,
    "start_time": "2023-06-28T18:55:01.548Z"
   },
   {
    "duration": 9,
    "start_time": "2023-06-28T18:55:55.302Z"
   },
   {
    "duration": 508,
    "start_time": "2023-06-28T18:55:57.602Z"
   },
   {
    "duration": 332,
    "start_time": "2023-06-28T18:58:08.313Z"
   },
   {
    "duration": 46,
    "start_time": "2023-06-28T18:58:54.565Z"
   },
   {
    "duration": 179,
    "start_time": "2023-06-28T18:59:03.873Z"
   },
   {
    "duration": 254,
    "start_time": "2023-06-28T18:59:09.719Z"
   },
   {
    "duration": 15,
    "start_time": "2023-06-28T18:59:16.612Z"
   },
   {
    "duration": 70,
    "start_time": "2023-06-28T18:59:21.551Z"
   },
   {
    "duration": 3,
    "start_time": "2023-06-28T18:59:28.041Z"
   },
   {
    "duration": 114159,
    "start_time": "2023-06-28T19:00:24.354Z"
   },
   {
    "duration": 145,
    "start_time": "2023-06-28T19:02:23.007Z"
   },
   {
    "duration": 14,
    "start_time": "2023-06-28T19:02:31.507Z"
   },
   {
    "duration": 5,
    "start_time": "2023-06-28T19:02:37.023Z"
   },
   {
    "duration": 5,
    "start_time": "2023-06-28T19:02:42.463Z"
   },
   {
    "duration": 50390,
    "start_time": "2023-06-28T19:07:56.235Z"
   },
   {
    "duration": 359,
    "start_time": "2023-06-28T19:09:06.362Z"
   },
   {
    "duration": 107631,
    "start_time": "2023-06-28T19:15:58.455Z"
   },
   {
    "duration": 412,
    "start_time": "2023-06-28T19:18:31.309Z"
   },
   {
    "duration": 50792,
    "start_time": "2023-06-28T19:18:59.634Z"
   },
   {
    "duration": 366,
    "start_time": "2023-06-28T19:19:59.709Z"
   },
   {
    "duration": 90077,
    "start_time": "2023-06-28T19:20:51.518Z"
   },
   {
    "duration": 447,
    "start_time": "2023-06-28T19:22:44.832Z"
   },
   {
    "duration": 8,
    "start_time": "2023-06-28T19:54:31.584Z"
   },
   {
    "duration": 1769,
    "start_time": "2023-06-28T20:01:50.443Z"
   },
   {
    "duration": 1133,
    "start_time": "2023-06-28T20:01:54.099Z"
   },
   {
    "duration": 45,
    "start_time": "2023-06-28T20:01:59.980Z"
   },
   {
    "duration": 237,
    "start_time": "2023-06-28T20:02:04.869Z"
   },
   {
    "duration": 4,
    "start_time": "2023-06-28T20:02:18.362Z"
   },
   {
    "duration": 255,
    "start_time": "2023-06-28T20:02:20.383Z"
   },
   {
    "duration": 34,
    "start_time": "2023-06-28T20:02:30.955Z"
   },
   {
    "duration": 33,
    "start_time": "2023-06-28T20:02:34.179Z"
   },
   {
    "duration": 127,
    "start_time": "2023-06-28T20:02:37.351Z"
   },
   {
    "duration": 231,
    "start_time": "2023-06-28T20:02:39.688Z"
   },
   {
    "duration": 94,
    "start_time": "2023-06-28T20:02:45.359Z"
   },
   {
    "duration": 17,
    "start_time": "2023-06-28T20:04:14.640Z"
   },
   {
    "duration": 4,
    "start_time": "2023-06-28T20:04:28.801Z"
   },
   {
    "duration": 2,
    "start_time": "2023-06-28T20:04:33.401Z"
   },
   {
    "duration": 183011,
    "start_time": "2023-06-28T20:08:02.884Z"
   },
   {
    "duration": 6,
    "start_time": "2023-06-28T20:11:19.536Z"
   },
   {
    "duration": 5,
    "start_time": "2023-06-28T20:11:25.525Z"
   },
   {
    "duration": 98,
    "start_time": "2023-06-28T20:15:25.805Z"
   },
   {
    "duration": 46,
    "start_time": "2023-06-28T20:16:29.007Z"
   },
   {
    "duration": 16959,
    "start_time": "2023-06-28T20:17:37.298Z"
   },
   {
    "duration": 22367,
    "start_time": "2023-06-28T20:18:07.992Z"
   },
   {
    "duration": 200365,
    "start_time": "2023-06-28T20:18:43.038Z"
   },
   {
    "duration": 209,
    "start_time": "2023-06-28T20:24:11.380Z"
   },
   {
    "duration": 15363,
    "start_time": "2023-06-28T20:29:19.936Z"
   },
   {
    "duration": 88,
    "start_time": "2023-06-28T20:30:07.462Z"
   },
   {
    "duration": 6,
    "start_time": "2023-06-28T20:32:03.223Z"
   },
   {
    "duration": 10044,
    "start_time": "2023-06-28T20:32:19.762Z"
   },
   {
    "duration": 6,
    "start_time": "2023-06-28T20:32:40.496Z"
   },
   {
    "duration": 5,
    "start_time": "2023-06-28T20:32:43.233Z"
   },
   {
    "duration": 424,
    "start_time": "2023-06-28T20:34:57.460Z"
   },
   {
    "duration": 80,
    "start_time": "2023-06-28T20:35:31.167Z"
   },
   {
    "duration": 6,
    "start_time": "2023-06-28T20:38:14.487Z"
   },
   {
    "duration": 17054,
    "start_time": "2023-06-28T20:38:44.573Z"
   },
   {
    "duration": 5,
    "start_time": "2023-06-28T20:41:49.891Z"
   },
   {
    "duration": 452,
    "start_time": "2023-06-28T21:04:34.343Z"
   },
   {
    "duration": 304,
    "start_time": "2023-06-28T21:05:18.941Z"
   },
   {
    "duration": 894,
    "start_time": "2023-06-28T21:05:40.793Z"
   },
   {
    "duration": 116,
    "start_time": "2023-06-28T21:05:45.716Z"
   },
   {
    "duration": 17944,
    "start_time": "2023-06-28T21:06:47.950Z"
   },
   {
    "duration": 91,
    "start_time": "2023-06-28T21:07:43.010Z"
   },
   {
    "duration": 5,
    "start_time": "2023-06-28T21:12:52.445Z"
   },
   {
    "duration": 1127,
    "start_time": "2023-06-28T21:13:27.505Z"
   },
   {
    "duration": 126,
    "start_time": "2023-06-28T21:13:34.754Z"
   },
   {
    "duration": 12,
    "start_time": "2023-06-28T21:14:24.318Z"
   },
   {
    "duration": 13957,
    "start_time": "2023-06-28T21:14:40.232Z"
   },
   {
    "duration": 589,
    "start_time": "2023-06-28T21:15:11.837Z"
   },
   {
    "duration": 130,
    "start_time": "2023-06-28T21:15:17.422Z"
   },
   {
    "duration": 7,
    "start_time": "2023-06-28T21:16:04.394Z"
   },
   {
    "duration": 14688,
    "start_time": "2023-06-28T21:16:09.034Z"
   },
   {
    "duration": 5,
    "start_time": "2023-06-28T21:16:30.857Z"
   },
   {
    "duration": 1026,
    "start_time": "2023-06-28T21:16:35.511Z"
   },
   {
    "duration": 125,
    "start_time": "2023-06-28T21:16:40.195Z"
   },
   {
    "duration": 88497,
    "start_time": "2023-06-28T21:25:08.713Z"
   },
   {
    "duration": 308,
    "start_time": "2023-06-28T21:26:58.406Z"
   },
   {
    "duration": 88281,
    "start_time": "2023-06-28T21:27:50.738Z"
   },
   {
    "duration": 322,
    "start_time": "2023-06-28T21:30:50.952Z"
   },
   {
    "duration": 59352,
    "start_time": "2023-06-28T21:32:21.039Z"
   },
   {
    "duration": 230,
    "start_time": "2023-06-28T21:33:53.612Z"
   },
   {
    "duration": 25492,
    "start_time": "2023-06-28T21:35:30.509Z"
   },
   {
    "duration": 119,
    "start_time": "2023-06-28T21:36:28.107Z"
   },
   {
    "duration": 49976,
    "start_time": "2023-06-28T21:37:00.610Z"
   },
   {
    "duration": 261,
    "start_time": "2023-06-28T21:38:02.962Z"
   },
   {
    "duration": 106943,
    "start_time": "2023-06-28T21:38:43.786Z"
   },
   {
    "duration": 285,
    "start_time": "2023-06-28T21:40:38.802Z"
   },
   {
    "duration": 2091,
    "start_time": "2023-06-28T21:46:51.435Z"
   },
   {
    "duration": 1250,
    "start_time": "2023-06-28T21:46:53.529Z"
   },
   {
    "duration": 243,
    "start_time": "2023-06-28T21:46:54.791Z"
   },
   {
    "duration": 47,
    "start_time": "2023-06-28T21:46:55.036Z"
   },
   {
    "duration": 185,
    "start_time": "2023-06-28T21:46:55.089Z"
   },
   {
    "duration": 311,
    "start_time": "2023-06-28T21:46:55.276Z"
   },
   {
    "duration": 200,
    "start_time": "2023-06-28T21:46:55.603Z"
   },
   {
    "duration": 629,
    "start_time": "2023-06-28T21:46:55.806Z"
   },
   {
    "duration": 34,
    "start_time": "2023-06-28T21:46:56.437Z"
   },
   {
    "duration": 5,
    "start_time": "2023-06-28T21:46:56.473Z"
   },
   {
    "duration": 233,
    "start_time": "2023-06-28T21:46:56.480Z"
   },
   {
    "duration": 75,
    "start_time": "2023-06-28T21:46:56.715Z"
   },
   {
    "duration": 19,
    "start_time": "2023-06-28T21:46:56.796Z"
   },
   {
    "duration": 38,
    "start_time": "2023-06-28T21:46:56.827Z"
   },
   {
    "duration": 56,
    "start_time": "2023-06-28T21:46:56.872Z"
   },
   {
    "duration": 173,
    "start_time": "2023-06-28T21:46:56.938Z"
   },
   {
    "duration": 347,
    "start_time": "2023-06-28T21:46:57.114Z"
   },
   {
    "duration": 103,
    "start_time": "2023-06-28T21:46:57.466Z"
   },
   {
    "duration": 27,
    "start_time": "2023-06-28T21:46:57.572Z"
   },
   {
    "duration": 4,
    "start_time": "2023-06-28T21:46:57.601Z"
   },
   {
    "duration": 5,
    "start_time": "2023-06-28T21:46:57.610Z"
   },
   {
    "duration": 4,
    "start_time": "2023-06-28T21:46:57.617Z"
   },
   {
    "duration": 20010,
    "start_time": "2023-06-28T21:46:57.623Z"
   },
   {
    "duration": 205,
    "start_time": "2023-06-28T21:47:17.639Z"
   },
   {
    "duration": 135,
    "start_time": "2023-06-28T21:47:17.847Z"
   },
   {
    "duration": 90203,
    "start_time": "2023-06-28T21:47:17.984Z"
   },
   {
    "duration": 318,
    "start_time": "2023-06-28T21:48:48.193Z"
   },
   {
    "duration": 12,
    "start_time": "2023-06-28T21:48:48.513Z"
   },
   {
    "duration": 6,
    "start_time": "2023-06-28T21:48:48.538Z"
   },
   {
    "duration": 680,
    "start_time": "2023-06-28T21:48:48.567Z"
   },
   {
    "duration": 134,
    "start_time": "2023-06-28T21:48:49.249Z"
   },
   {
    "duration": 5,
    "start_time": "2023-06-28T21:48:49.393Z"
   },
   {
    "duration": 18,
    "start_time": "2023-06-28T21:48:49.400Z"
   },
   {
    "duration": 926,
    "start_time": "2023-06-28T21:48:49.423Z"
   },
   {
    "duration": 155,
    "start_time": "2023-06-28T21:48:50.351Z"
   },
   {
    "duration": 17374,
    "start_time": "2023-06-28T21:48:50.510Z"
   },
   {
    "duration": 120,
    "start_time": "2023-06-28T21:49:07.887Z"
   },
   {
    "duration": 5,
    "start_time": "2023-06-28T21:49:08.009Z"
   },
   {
    "duration": 192,
    "start_time": "2023-06-28T21:54:51.006Z"
   },
   {
    "duration": 7,
    "start_time": "2023-06-28T21:59:21.051Z"
   },
   {
    "duration": 125,
    "start_time": "2023-06-29T09:10:57.125Z"
   },
   {
    "duration": 1565,
    "start_time": "2023-06-29T09:11:09.998Z"
   },
   {
    "duration": 2927,
    "start_time": "2023-06-29T09:11:11.565Z"
   },
   {
    "duration": 114,
    "start_time": "2023-06-29T09:11:14.493Z"
   },
   {
    "duration": 34,
    "start_time": "2023-06-29T09:11:14.617Z"
   },
   {
    "duration": 132,
    "start_time": "2023-06-29T09:11:14.653Z"
   },
   {
    "duration": 169,
    "start_time": "2023-06-29T09:11:14.787Z"
   },
   {
    "duration": 117,
    "start_time": "2023-06-29T09:11:14.960Z"
   },
   {
    "duration": 333,
    "start_time": "2023-06-29T09:11:15.078Z"
   },
   {
    "duration": 15,
    "start_time": "2023-06-29T09:11:15.413Z"
   },
   {
    "duration": 10,
    "start_time": "2023-06-29T09:11:15.430Z"
   },
   {
    "duration": 174,
    "start_time": "2023-06-29T09:11:15.442Z"
   },
   {
    "duration": 56,
    "start_time": "2023-06-29T09:11:15.618Z"
   },
   {
    "duration": 6,
    "start_time": "2023-06-29T09:11:15.676Z"
   },
   {
    "duration": 31,
    "start_time": "2023-06-29T09:11:15.683Z"
   },
   {
    "duration": 17,
    "start_time": "2023-06-29T09:11:15.716Z"
   },
   {
    "duration": 108,
    "start_time": "2023-06-29T09:11:15.735Z"
   },
   {
    "duration": 199,
    "start_time": "2023-06-29T09:11:15.845Z"
   },
   {
    "duration": 63,
    "start_time": "2023-06-29T09:11:16.046Z"
   },
   {
    "duration": 14,
    "start_time": "2023-06-29T09:11:16.111Z"
   },
   {
    "duration": 8,
    "start_time": "2023-06-29T09:11:16.127Z"
   },
   {
    "duration": 10,
    "start_time": "2023-06-29T09:11:16.137Z"
   },
   {
    "duration": 15,
    "start_time": "2023-06-29T09:11:16.148Z"
   },
   {
    "duration": 11910,
    "start_time": "2023-06-29T09:11:16.164Z"
   },
   {
    "duration": 97,
    "start_time": "2023-06-29T09:11:28.076Z"
   },
   {
    "duration": 73,
    "start_time": "2023-06-29T09:11:28.175Z"
   },
   {
    "duration": 30219,
    "start_time": "2023-06-29T09:11:28.250Z"
   },
   {
    "duration": 398,
    "start_time": "2023-06-29T09:11:58.481Z"
   },
   {
    "duration": 5,
    "start_time": "2023-06-29T09:11:58.882Z"
   },
   {
    "duration": 71,
    "start_time": "2023-06-29T09:11:58.888Z"
   },
   {
    "duration": 727,
    "start_time": "2023-06-29T09:11:58.962Z"
   },
   {
    "duration": 59,
    "start_time": "2023-06-29T09:11:59.691Z"
   },
   {
    "duration": 4,
    "start_time": "2023-06-29T09:11:59.767Z"
   },
   {
    "duration": 12,
    "start_time": "2023-06-29T09:11:59.773Z"
   },
   {
    "duration": 661,
    "start_time": "2023-06-29T09:11:59.786Z"
   },
   {
    "duration": 90,
    "start_time": "2023-06-29T09:12:00.449Z"
   },
   {
    "duration": 16325,
    "start_time": "2023-06-29T09:12:00.541Z"
   },
   {
    "duration": 160,
    "start_time": "2023-06-29T09:12:16.868Z"
   },
   {
    "duration": 5,
    "start_time": "2023-06-29T09:12:17.030Z"
   },
   {
    "duration": 151,
    "start_time": "2023-06-29T09:12:17.036Z"
   },
   {
    "duration": 18861,
    "start_time": "2023-06-29T09:18:45.805Z"
   },
   {
    "duration": 18313,
    "start_time": "2023-06-29T09:19:34.955Z"
   },
   {
    "duration": 97,
    "start_time": "2023-06-29T09:27:50.911Z"
   },
   {
    "duration": 1578,
    "start_time": "2023-06-29T18:42:31.343Z"
   },
   {
    "duration": 1032,
    "start_time": "2023-06-29T18:42:36.283Z"
   },
   {
    "duration": 108,
    "start_time": "2023-06-29T18:42:44.711Z"
   },
   {
    "duration": 378,
    "start_time": "2023-06-29T18:42:53.612Z"
   },
   {
    "duration": 796,
    "start_time": "2023-06-29T18:44:13.482Z"
   },
   {
    "duration": 55,
    "start_time": "2023-06-29T18:44:25.997Z"
   },
   {
    "duration": 113,
    "start_time": "2023-06-29T18:44:31.905Z"
   },
   {
    "duration": 150,
    "start_time": "2023-06-29T18:44:36.622Z"
   },
   {
    "duration": 90,
    "start_time": "2023-06-29T18:44:42.037Z"
   },
   {
    "duration": 338,
    "start_time": "2023-06-29T18:44:45.785Z"
   },
   {
    "duration": 13,
    "start_time": "2023-06-29T18:44:49.841Z"
   },
   {
    "duration": 3,
    "start_time": "2023-06-29T18:44:53.593Z"
   },
   {
    "duration": 140,
    "start_time": "2023-06-29T18:44:55.896Z"
   },
   {
    "duration": 52,
    "start_time": "2023-06-29T18:44:58.816Z"
   },
   {
    "duration": 8,
    "start_time": "2023-06-29T18:45:02.219Z"
   },
   {
    "duration": 27,
    "start_time": "2023-06-29T18:45:05.219Z"
   },
   {
    "duration": 15,
    "start_time": "2023-06-29T18:45:07.574Z"
   },
   {
    "duration": 1494,
    "start_time": "2023-06-29T21:37:51.752Z"
   },
   {
    "duration": 1005,
    "start_time": "2023-06-29T21:37:53.249Z"
   },
   {
    "duration": 125,
    "start_time": "2023-06-29T21:37:54.255Z"
   },
   {
    "duration": 470,
    "start_time": "2023-06-29T21:37:54.382Z"
   },
   {
    "duration": 821,
    "start_time": "2023-06-29T21:37:54.855Z"
   },
   {
    "duration": 43,
    "start_time": "2023-06-29T21:37:55.678Z"
   },
   {
    "duration": 131,
    "start_time": "2023-06-29T21:37:55.732Z"
   },
   {
    "duration": 186,
    "start_time": "2023-06-29T21:37:55.865Z"
   },
   {
    "duration": 109,
    "start_time": "2023-06-29T21:37:56.053Z"
   },
   {
    "duration": 333,
    "start_time": "2023-06-29T21:37:56.165Z"
   },
   {
    "duration": 15,
    "start_time": "2023-06-29T21:37:56.500Z"
   },
   {
    "duration": 16,
    "start_time": "2023-06-29T21:37:56.516Z"
   },
   {
    "duration": 112,
    "start_time": "2023-06-29T21:37:56.534Z"
   },
   {
    "duration": 45,
    "start_time": "2023-06-29T21:37:56.647Z"
   },
   {
    "duration": 5,
    "start_time": "2023-06-29T21:37:56.694Z"
   },
   {
    "duration": 38,
    "start_time": "2023-06-29T21:37:56.701Z"
   },
   {
    "duration": 21,
    "start_time": "2023-06-29T21:37:56.740Z"
   },
   {
    "duration": 78,
    "start_time": "2023-06-29T21:37:56.762Z"
   },
   {
    "duration": 14,
    "start_time": "2023-06-29T21:37:56.841Z"
   },
   {
    "duration": 3,
    "start_time": "2023-06-29T21:37:56.856Z"
   },
   {
    "duration": 5,
    "start_time": "2023-06-29T21:37:56.860Z"
   },
   {
    "duration": 4,
    "start_time": "2023-06-29T21:37:56.866Z"
   },
   {
    "duration": 12457,
    "start_time": "2023-06-29T21:37:56.872Z"
   },
   {
    "duration": 95,
    "start_time": "2023-06-29T21:38:09.330Z"
   },
   {
    "duration": 84,
    "start_time": "2023-06-29T21:38:09.432Z"
   },
   {
    "duration": 4025,
    "start_time": "2023-06-29T21:38:09.517Z"
   },
   {
    "duration": 299,
    "start_time": "2023-06-29T21:38:13.543Z"
   },
   {
    "duration": 4,
    "start_time": "2023-06-29T21:38:13.845Z"
   },
   {
    "duration": 5,
    "start_time": "2023-06-29T21:38:13.851Z"
   },
   {
    "duration": 419,
    "start_time": "2023-06-29T21:38:13.858Z"
   },
   {
    "duration": 83,
    "start_time": "2023-06-29T21:38:14.279Z"
   },
   {
    "duration": 3,
    "start_time": "2023-06-29T21:38:14.364Z"
   },
   {
    "duration": 9,
    "start_time": "2023-06-29T21:38:14.368Z"
   },
   {
    "duration": 720,
    "start_time": "2023-06-29T21:38:14.379Z"
   },
   {
    "duration": 105,
    "start_time": "2023-06-29T21:38:15.101Z"
   },
   {
    "duration": 21035,
    "start_time": "2023-06-29T21:38:15.208Z"
   },
   {
    "duration": 160,
    "start_time": "2023-06-29T21:38:36.245Z"
   },
   {
    "duration": 5,
    "start_time": "2023-06-29T21:38:36.407Z"
   },
   {
    "duration": 126,
    "start_time": "2023-06-29T21:38:36.413Z"
   },
   {
    "duration": 114,
    "start_time": "2023-06-29T21:38:36.541Z"
   },
   {
    "duration": 115,
    "start_time": "2023-06-30T18:45:08.362Z"
   },
   {
    "duration": 1553,
    "start_time": "2023-06-30T18:45:26.617Z"
   },
   {
    "duration": 992,
    "start_time": "2023-06-30T18:45:28.172Z"
   },
   {
    "duration": 125,
    "start_time": "2023-06-30T18:45:29.165Z"
   },
   {
    "duration": 428,
    "start_time": "2023-06-30T18:45:29.292Z"
   },
   {
    "duration": 901,
    "start_time": "2023-06-30T18:45:29.722Z"
   },
   {
    "duration": 47,
    "start_time": "2023-06-30T18:45:30.624Z"
   },
   {
    "duration": 143,
    "start_time": "2023-06-30T18:45:30.672Z"
   },
   {
    "duration": 185,
    "start_time": "2023-06-30T18:45:30.816Z"
   },
   {
    "duration": 101,
    "start_time": "2023-06-30T18:45:31.003Z"
   },
   {
    "duration": 325,
    "start_time": "2023-06-30T18:45:31.106Z"
   },
   {
    "duration": 14,
    "start_time": "2023-06-30T18:45:31.433Z"
   },
   {
    "duration": 30,
    "start_time": "2023-06-30T18:45:31.449Z"
   },
   {
    "duration": 131,
    "start_time": "2023-06-30T18:45:31.480Z"
   },
   {
    "duration": 54,
    "start_time": "2023-06-30T18:45:31.613Z"
   },
   {
    "duration": 7,
    "start_time": "2023-06-30T18:45:31.669Z"
   },
   {
    "duration": 70,
    "start_time": "2023-06-30T18:45:31.677Z"
   },
   {
    "duration": 25,
    "start_time": "2023-06-30T18:45:31.748Z"
   },
   {
    "duration": 62,
    "start_time": "2023-06-30T18:45:31.775Z"
   },
   {
    "duration": 15,
    "start_time": "2023-06-30T18:45:31.839Z"
   },
   {
    "duration": 4,
    "start_time": "2023-06-30T18:45:31.855Z"
   },
   {
    "duration": 21,
    "start_time": "2023-06-30T18:45:31.860Z"
   },
   {
    "duration": 16,
    "start_time": "2023-06-30T18:45:31.882Z"
   },
   {
    "duration": 12668,
    "start_time": "2023-06-30T18:45:31.900Z"
   },
   {
    "duration": 129,
    "start_time": "2023-06-30T18:45:44.571Z"
   },
   {
    "duration": 94,
    "start_time": "2023-06-30T18:45:44.702Z"
   },
   {
    "duration": 3245,
    "start_time": "2023-06-30T18:45:44.798Z"
   },
   {
    "duration": 387,
    "start_time": "2023-06-30T18:45:48.045Z"
   },
   {
    "duration": 4,
    "start_time": "2023-06-30T18:45:48.435Z"
   },
   {
    "duration": 39,
    "start_time": "2023-06-30T18:45:48.440Z"
   },
   {
    "duration": 389,
    "start_time": "2023-06-30T18:45:48.481Z"
   },
   {
    "duration": 86,
    "start_time": "2023-06-30T18:45:48.872Z"
   },
   {
    "duration": 3,
    "start_time": "2023-06-30T18:45:48.959Z"
   },
   {
    "duration": 8,
    "start_time": "2023-06-30T18:45:48.963Z"
   },
   {
    "duration": 686,
    "start_time": "2023-06-30T18:45:48.973Z"
   },
   {
    "duration": 105,
    "start_time": "2023-06-30T18:45:49.660Z"
   },
   {
    "duration": 817,
    "start_time": "2023-06-30T18:45:49.767Z"
   },
   {
    "duration": 85,
    "start_time": "2023-06-30T18:45:50.586Z"
   },
   {
    "duration": 6,
    "start_time": "2023-06-30T18:45:50.673Z"
   },
   {
    "duration": 107,
    "start_time": "2023-06-30T18:45:50.680Z"
   },
   {
    "duration": 99,
    "start_time": "2023-06-30T18:45:50.788Z"
   },
   {
    "duration": 126,
    "start_time": "2023-06-30T18:47:30.804Z"
   },
   {
    "duration": 22943,
    "start_time": "2023-06-30T18:47:56.694Z"
   },
   {
    "duration": 1573,
    "start_time": "2023-07-30T21:13:12.285Z"
   },
   {
    "duration": 2770,
    "start_time": "2023-07-30T21:13:13.860Z"
   },
   {
    "duration": 115,
    "start_time": "2023-07-30T21:13:16.632Z"
   },
   {
    "duration": 421,
    "start_time": "2023-07-30T21:13:16.748Z"
   },
   {
    "duration": 850,
    "start_time": "2023-07-30T21:13:17.172Z"
   },
   {
    "duration": 48,
    "start_time": "2023-07-30T21:13:18.024Z"
   },
   {
    "duration": 117,
    "start_time": "2023-07-30T21:13:18.074Z"
   },
   {
    "duration": 153,
    "start_time": "2023-07-30T21:13:18.193Z"
   },
   {
    "duration": 119,
    "start_time": "2023-07-30T21:13:18.348Z"
   },
   {
    "duration": 292,
    "start_time": "2023-07-30T21:13:18.468Z"
   },
   {
    "duration": 16,
    "start_time": "2023-07-30T21:13:18.762Z"
   },
   {
    "duration": 4,
    "start_time": "2023-07-30T21:13:18.780Z"
   },
   {
    "duration": 143,
    "start_time": "2023-07-30T21:13:18.785Z"
   },
   {
    "duration": 61,
    "start_time": "2023-07-30T21:13:18.932Z"
   },
   {
    "duration": 7,
    "start_time": "2023-07-30T21:13:18.996Z"
   },
   {
    "duration": 20,
    "start_time": "2023-07-30T21:13:19.004Z"
   },
   {
    "duration": 44,
    "start_time": "2023-07-30T21:13:19.026Z"
   },
   {
    "duration": 54,
    "start_time": "2023-07-30T21:13:19.071Z"
   },
   {
    "duration": 30,
    "start_time": "2023-07-30T21:13:19.126Z"
   },
   {
    "duration": 3,
    "start_time": "2023-07-30T21:13:19.158Z"
   },
   {
    "duration": 13,
    "start_time": "2023-07-30T21:13:19.162Z"
   },
   {
    "duration": 166591,
    "start_time": "2023-07-30T21:13:19.176Z"
   },
   {
    "duration": 13484,
    "start_time": "2023-07-30T21:16:05.769Z"
   },
   {
    "duration": 126,
    "start_time": "2023-07-30T21:16:19.255Z"
   },
   {
    "duration": 95,
    "start_time": "2023-07-30T21:16:19.383Z"
   },
   {
    "duration": 3697,
    "start_time": "2023-07-30T21:16:19.480Z"
   },
   {
    "duration": 377,
    "start_time": "2023-07-30T21:16:23.179Z"
   },
   {
    "duration": 4,
    "start_time": "2023-07-30T21:16:23.558Z"
   },
   {
    "duration": 8395,
    "start_time": "2023-07-30T21:16:23.563Z"
   },
   {
    "duration": 422,
    "start_time": "2023-07-30T21:16:31.960Z"
   },
   {
    "duration": 93,
    "start_time": "2023-07-30T21:16:32.384Z"
   },
   {
    "duration": 3,
    "start_time": "2023-07-30T21:16:32.479Z"
   },
   {
    "duration": 14562,
    "start_time": "2023-07-30T21:16:32.484Z"
   },
   {
    "duration": 732,
    "start_time": "2023-07-30T21:16:47.048Z"
   },
   {
    "duration": 101,
    "start_time": "2023-07-30T21:16:47.782Z"
   },
   {
    "duration": 19174,
    "start_time": "2023-07-30T21:16:47.884Z"
   },
   {
    "duration": 77,
    "start_time": "2023-07-30T21:17:07.060Z"
   },
   {
    "duration": 19,
    "start_time": "2023-07-30T21:17:07.139Z"
   },
   {
    "duration": 153,
    "start_time": "2023-07-30T21:17:07.159Z"
   },
   {
    "duration": 122,
    "start_time": "2023-07-30T21:17:07.315Z"
   },
   {
    "duration": 107,
    "start_time": "2023-07-30T21:28:51.599Z"
   },
   {
    "duration": 29,
    "start_time": "2023-07-30T21:30:33.676Z"
   },
   {
    "duration": 145,
    "start_time": "2023-07-30T21:30:39.424Z"
   },
   {
    "duration": 164,
    "start_time": "2023-07-30T21:31:04.203Z"
   },
   {
    "duration": 1460,
    "start_time": "2023-07-30T21:39:15.039Z"
   },
   {
    "duration": 792,
    "start_time": "2023-07-30T21:39:16.501Z"
   },
   {
    "duration": 125,
    "start_time": "2023-07-30T21:39:17.295Z"
   },
   {
    "duration": 484,
    "start_time": "2023-07-30T21:39:17.422Z"
   },
   {
    "duration": 951,
    "start_time": "2023-07-30T21:39:17.909Z"
   },
   {
    "duration": 52,
    "start_time": "2023-07-30T21:39:18.862Z"
   },
   {
    "duration": 157,
    "start_time": "2023-07-30T21:39:18.916Z"
   },
   {
    "duration": 165,
    "start_time": "2023-07-30T21:39:19.074Z"
   },
   {
    "duration": 122,
    "start_time": "2023-07-30T21:39:19.240Z"
   },
   {
    "duration": 298,
    "start_time": "2023-07-30T21:39:19.364Z"
   },
   {
    "duration": 15,
    "start_time": "2023-07-30T21:39:19.664Z"
   },
   {
    "duration": 11,
    "start_time": "2023-07-30T21:39:19.680Z"
   },
   {
    "duration": 140,
    "start_time": "2023-07-30T21:39:19.692Z"
   },
   {
    "duration": 55,
    "start_time": "2023-07-30T21:39:19.835Z"
   },
   {
    "duration": 5,
    "start_time": "2023-07-30T21:39:19.892Z"
   },
   {
    "duration": 33,
    "start_time": "2023-07-30T21:39:19.899Z"
   },
   {
    "duration": 22,
    "start_time": "2023-07-30T21:39:19.934Z"
   },
   {
    "duration": 58,
    "start_time": "2023-07-30T21:39:19.958Z"
   },
   {
    "duration": 17,
    "start_time": "2023-07-30T21:39:20.018Z"
   },
   {
    "duration": 19,
    "start_time": "2023-07-30T21:39:20.037Z"
   },
   {
    "duration": 13,
    "start_time": "2023-07-30T21:39:20.058Z"
   },
   {
    "duration": 165703,
    "start_time": "2023-07-30T21:39:20.073Z"
   },
   {
    "duration": 12948,
    "start_time": "2023-07-30T21:42:05.778Z"
   },
   {
    "duration": 116,
    "start_time": "2023-07-30T21:42:18.728Z"
   },
   {
    "duration": 144,
    "start_time": "2023-07-30T21:42:18.846Z"
   },
   {
    "duration": 2264,
    "start_time": "2023-07-30T21:42:18.992Z"
   },
   {
    "duration": 209,
    "start_time": "2023-07-30T21:42:21.258Z"
   },
   {
    "duration": 4,
    "start_time": "2023-07-30T21:42:21.469Z"
   },
   {
    "duration": 7811,
    "start_time": "2023-07-30T21:42:21.474Z"
   },
   {
    "duration": 364,
    "start_time": "2023-07-30T21:42:29.286Z"
   },
   {
    "duration": 67,
    "start_time": "2023-07-30T21:42:29.656Z"
   },
   {
    "duration": 3,
    "start_time": "2023-07-30T21:42:29.724Z"
   },
   {
    "duration": 13350,
    "start_time": "2023-07-30T21:42:29.729Z"
   },
   {
    "duration": 658,
    "start_time": "2023-07-30T21:42:43.081Z"
   },
   {
    "duration": 99,
    "start_time": "2023-07-30T21:42:43.741Z"
   },
   {
    "duration": 19418,
    "start_time": "2023-07-30T21:42:43.842Z"
   },
   {
    "duration": 77,
    "start_time": "2023-07-30T21:43:03.263Z"
   },
   {
    "duration": 18,
    "start_time": "2023-07-30T21:43:03.341Z"
   },
   {
    "duration": 210,
    "start_time": "2023-07-30T21:43:03.361Z"
   },
   {
    "duration": 290,
    "start_time": "2023-07-30T21:43:03.573Z"
   }
  ],
  "kernelspec": {
   "display_name": "Python 3 (ipykernel)",
   "language": "python",
   "name": "python3"
  },
  "language_info": {
   "codemirror_mode": {
    "name": "ipython",
    "version": 3
   },
   "file_extension": ".py",
   "mimetype": "text/x-python",
   "name": "python",
   "nbconvert_exporter": "python",
   "pygments_lexer": "ipython3",
   "version": "3.10.9"
  },
  "toc": {
   "base_numbering": 1,
   "nav_menu": {},
   "number_sections": true,
   "sideBar": true,
   "skip_h1_title": true,
   "title_cell": "Table of Contents",
   "title_sidebar": "Contents",
   "toc_cell": false,
   "toc_position": {},
   "toc_section_display": true,
   "toc_window_display": true
  }
 },
 "nbformat": 4,
 "nbformat_minor": 4
}
